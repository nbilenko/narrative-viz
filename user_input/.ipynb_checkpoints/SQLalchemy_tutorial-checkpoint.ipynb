{
 "metadata": {
  "name": ""
 },
 "nbformat": 3,
 "nbformat_minor": 0,
 "worksheets": [
  {
   "cells": [
    {
     "cell_type": "heading",
     "level": 1,
     "metadata": {},
     "source": [
      "SQL ALCHEMY"
     ]
    },
    {
     "cell_type": "code",
     "collapsed": false,
     "input": [
      "import sqlalchemy"
     ],
     "language": "python",
     "metadata": {},
     "outputs": [],
     "prompt_number": 1
    },
    {
     "cell_type": "code",
     "collapsed": false,
     "input": [
      "sqlalchemy.__version__"
     ],
     "language": "python",
     "metadata": {},
     "outputs": [
      {
       "metadata": {},
       "output_type": "pyout",
       "prompt_number": 2,
       "text": [
        "'0.8.3'"
       ]
      }
     ],
     "prompt_number": 2
    },
    {
     "cell_type": "code",
     "collapsed": false,
     "input": [
      "from sqlalchemy import create_engine\n",
      "engine = create_engine('sqlite:///:memory:', echo=True)"
     ],
     "language": "python",
     "metadata": {},
     "outputs": [],
     "prompt_number": 3
    },
    {
     "cell_type": "code",
     "collapsed": false,
     "input": [
      "from sqlalchemy.ext.declarative import declarative_base\n",
      "Base = declarative_base()"
     ],
     "language": "python",
     "metadata": {},
     "outputs": [],
     "prompt_number": 4
    },
    {
     "cell_type": "code",
     "collapsed": false,
     "input": [
      "from sqlalchemy import Column, Integer, String"
     ],
     "language": "python",
     "metadata": {},
     "outputs": [],
     "prompt_number": 5
    },
    {
     "cell_type": "code",
     "collapsed": false,
     "input": [
      "# class User(Base):\n",
      "#    __tablename__ = 'users'\n",
      "#    \n",
      "#    id = Column(Integer, primary_key=True)\n",
      "#    name = Column(String)\n",
      "#    fullname = Column(String)\n",
      "#    password = Column(String)\n",
      "#    \n",
      "#    def __repr__(self):\n",
      "#        return \"<User(name='%s', fullname='%s', password='%s')>\" % (self.name, self.fullname, self.password)"
     ],
     "language": "python",
     "metadata": {},
     "outputs": [],
     "prompt_number": 6
    },
    {
     "cell_type": "code",
     "collapsed": false,
     "input": [
      "# For databases that are not sqlite and Postgresql that allow VARCHAR strings of variable length,\n",
      "# must specify the length when declaring column:\n",
      "# Column(String(50))"
     ],
     "language": "python",
     "metadata": {},
     "outputs": [],
     "prompt_number": 7
    },
    {
     "cell_type": "code",
     "collapsed": false,
     "input": [
      "# For Oracle, Firebird:\n",
      "# from sqlalchemy import Sequence\n",
      "# Column(Integer, Sequence('user_id_seq'), primary_key=True)"
     ],
     "language": "python",
     "metadata": {},
     "outputs": [],
     "prompt_number": 8
    },
    {
     "cell_type": "code",
     "collapsed": false,
     "input": [
      "# Incorporating those concerns, here's a \"foolproof\" table:\n",
      "from sqlalchemy import Sequence\n",
      "class User(Base):\n",
      "    __tablename__ = 'users'\n",
      "    id = Column(Integer, Sequence('user_id_seq'), primary_key=True)\n",
      "    name = Column(String(50))\n",
      "    fullname = Column(String(50))\n",
      "    password = Column(String(12))\n",
      "\n",
      "    def __repr__(self):\n",
      "        return \"<User(name='%s', fullname='%s', password='%s')>\" % (\n",
      "                                self.name, self.fullname, self.password)"
     ],
     "language": "python",
     "metadata": {},
     "outputs": [],
     "prompt_number": 9
    },
    {
     "cell_type": "code",
     "collapsed": false,
     "input": [
      "User.__table__"
     ],
     "language": "python",
     "metadata": {},
     "outputs": [
      {
       "metadata": {},
       "output_type": "pyout",
       "prompt_number": 10,
       "text": [
        "Table('users', MetaData(bind=None), Column('id', Integer(), table=<users>, primary_key=True, nullable=False, default=Sequence('user_id_seq', metadata=MetaData(bind=None))), Column('name', String(length=50), table=<users>), Column('fullname', String(length=50), table=<users>), Column('password', String(length=12), table=<users>), schema=None)"
       ]
      }
     ],
     "prompt_number": 10
    },
    {
     "cell_type": "code",
     "collapsed": false,
     "input": [
      "Base.metadata.create_all(engine)"
     ],
     "language": "python",
     "metadata": {},
     "outputs": [
      {
       "output_type": "stream",
       "stream": "stdout",
       "text": [
        "2014-03-29 21:40:21,977 INFO sqlalchemy.engine.base.Engine PRAGMA table_info(\"users\")\n"
       ]
      },
      {
       "output_type": "stream",
       "stream": "stdout",
       "text": [
        "2014-03-29 21:40:21,978 INFO sqlalchemy.engine.base.Engine ()\n"
       ]
      },
      {
       "output_type": "stream",
       "stream": "stdout",
       "text": [
        "2014-03-29 21:40:21,979 INFO sqlalchemy.engine.base.Engine \n",
        "CREATE TABLE users (\n",
        "\tid INTEGER NOT NULL, \n",
        "\tname VARCHAR(50), \n",
        "\tfullname VARCHAR(50), \n",
        "\tpassword VARCHAR(12), \n",
        "\tPRIMARY KEY (id)\n",
        ")\n",
        "\n",
        "\n"
       ]
      },
      {
       "output_type": "stream",
       "stream": "stdout",
       "text": [
        "2014-03-29 21:40:21,979 INFO sqlalchemy.engine.base.Engine ()\n"
       ]
      },
      {
       "output_type": "stream",
       "stream": "stdout",
       "text": [
        "2014-03-29 21:40:21,980 INFO sqlalchemy.engine.base.Engine COMMIT\n"
       ]
      }
     ],
     "prompt_number": 11
    },
    {
     "cell_type": "code",
     "collapsed": false,
     "input": [
      "ed_user = User(name='ed', fullname='Ed Jones', password='edspassword')"
     ],
     "language": "python",
     "metadata": {},
     "outputs": [],
     "prompt_number": 12
    },
    {
     "cell_type": "code",
     "collapsed": false,
     "input": [
      "ed_user.password"
     ],
     "language": "python",
     "metadata": {},
     "outputs": [
      {
       "metadata": {},
       "output_type": "pyout",
       "prompt_number": 13,
       "text": [
        "'edspassword'"
       ]
      }
     ],
     "prompt_number": 13
    },
    {
     "cell_type": "heading",
     "level": 1,
     "metadata": {},
     "source": [
      "Now let's start a session!"
     ]
    },
    {
     "cell_type": "code",
     "collapsed": false,
     "input": [
      "from sqlalchemy.orm import sessionmaker"
     ],
     "language": "python",
     "metadata": {},
     "outputs": [],
     "prompt_number": 14
    },
    {
     "cell_type": "code",
     "collapsed": false,
     "input": [
      "Session = sessionmaker(bind=engine) # if engine hasn't been started yet, no params for sessionmaker"
     ],
     "language": "python",
     "metadata": {},
     "outputs": [],
     "prompt_number": 15
    },
    {
     "cell_type": "code",
     "collapsed": false,
     "input": [
      "Session.configure(bind=engine)  # once engine is available"
     ],
     "language": "python",
     "metadata": {},
     "outputs": [],
     "prompt_number": 16
    },
    {
     "cell_type": "code",
     "collapsed": false,
     "input": [
      "session = Session()"
     ],
     "language": "python",
     "metadata": {},
     "outputs": [],
     "prompt_number": 17
    },
    {
     "cell_type": "heading",
     "level": 1,
     "metadata": {},
     "source": [
      "Making changes"
     ]
    },
    {
     "cell_type": "code",
     "collapsed": false,
     "input": [
      "session.add(ed_user)"
     ],
     "language": "python",
     "metadata": {},
     "outputs": [],
     "prompt_number": 18
    },
    {
     "cell_type": "code",
     "collapsed": false,
     "input": [
      "our_user = session.query(User).filter_by(name='ed').first() "
     ],
     "language": "python",
     "metadata": {},
     "outputs": [
      {
       "output_type": "stream",
       "stream": "stdout",
       "text": [
        "2014-03-29 21:40:22,531 INFO sqlalchemy.engine.base.Engine BEGIN (implicit)\n"
       ]
      },
      {
       "output_type": "stream",
       "stream": "stdout",
       "text": [
        "2014-03-29 21:40:22,533 INFO sqlalchemy.engine.base.Engine INSERT INTO users (name, fullname, password) VALUES (?, ?, ?)\n"
       ]
      },
      {
       "output_type": "stream",
       "stream": "stdout",
       "text": [
        "2014-03-29 21:40:22,534 INFO sqlalchemy.engine.base.Engine ('ed', 'Ed Jones', 'edspassword')\n"
       ]
      },
      {
       "output_type": "stream",
       "stream": "stdout",
       "text": [
        "2014-03-29 21:40:22,535 INFO sqlalchemy.engine.base.Engine SELECT users.id AS users_id, users.name AS users_name, users.fullname AS users_fullname, users.password AS users_password \n",
        "FROM users \n",
        "WHERE users.name = ?\n",
        " LIMIT ? OFFSET ?\n"
       ]
      },
      {
       "output_type": "stream",
       "stream": "stdout",
       "text": [
        "2014-03-29 21:40:22,535 INFO sqlalchemy.engine.base.Engine ('ed', 1, 0)\n"
       ]
      }
     ],
     "prompt_number": 19
    },
    {
     "cell_type": "code",
     "collapsed": false,
     "input": [
      "our_user"
     ],
     "language": "python",
     "metadata": {},
     "outputs": [
      {
       "metadata": {},
       "output_type": "pyout",
       "prompt_number": 20,
       "text": [
        "<User(name='ed', fullname='Ed Jones', password='edspassword')>"
       ]
      }
     ],
     "prompt_number": 20
    },
    {
     "cell_type": "code",
     "collapsed": false,
     "input": [
      "our_user is ed_user"
     ],
     "language": "python",
     "metadata": {},
     "outputs": [
      {
       "metadata": {},
       "output_type": "pyout",
       "prompt_number": 21,
       "text": [
        "True"
       ]
      }
     ],
     "prompt_number": 21
    },
    {
     "cell_type": "code",
     "collapsed": false,
     "input": [
      "session.add_all([User(name='wendy', fullname='Wendy Williams', password='foobar'),\n",
      "                 User(name='mary', fullname='Mary Contrary', password='xxg527'),\n",
      "                 User(name='fred', fullname='Fred Flinstone', password='blah')])"
     ],
     "language": "python",
     "metadata": {},
     "outputs": [],
     "prompt_number": 22
    },
    {
     "cell_type": "code",
     "collapsed": false,
     "input": [
      "our_user = session.query(User).first() "
     ],
     "language": "python",
     "metadata": {},
     "outputs": [
      {
       "output_type": "stream",
       "stream": "stdout",
       "text": [
        "2014-03-29 21:40:22,804 INFO sqlalchemy.engine.base.Engine INSERT INTO users (name, fullname, password) VALUES (?, ?, ?)\n"
       ]
      },
      {
       "output_type": "stream",
       "stream": "stdout",
       "text": [
        "2014-03-29 21:40:22,805 INFO sqlalchemy.engine.base.Engine ('wendy', 'Wendy Williams', 'foobar')\n"
       ]
      },
      {
       "output_type": "stream",
       "stream": "stdout",
       "text": [
        "2014-03-29 21:40:22,806 INFO sqlalchemy.engine.base.Engine INSERT INTO users (name, fullname, password) VALUES (?, ?, ?)\n"
       ]
      },
      {
       "output_type": "stream",
       "stream": "stdout",
       "text": [
        "2014-03-29 21:40:22,806 INFO sqlalchemy.engine.base.Engine ('mary', 'Mary Contrary', 'xxg527')\n"
       ]
      },
      {
       "output_type": "stream",
       "stream": "stdout",
       "text": [
        "2014-03-29 21:40:22,807 INFO sqlalchemy.engine.base.Engine INSERT INTO users (name, fullname, password) VALUES (?, ?, ?)\n"
       ]
      },
      {
       "output_type": "stream",
       "stream": "stdout",
       "text": [
        "2014-03-29 21:40:22,807 INFO sqlalchemy.engine.base.Engine ('fred', 'Fred Flinstone', 'blah')\n"
       ]
      },
      {
       "output_type": "stream",
       "stream": "stdout",
       "text": [
        "2014-03-29 21:40:22,809 INFO sqlalchemy.engine.base.Engine SELECT users.id AS users_id, users.name AS users_name, users.fullname AS users_fullname, users.password AS users_password \n",
        "FROM users\n",
        " LIMIT ? OFFSET ?\n"
       ]
      },
      {
       "output_type": "stream",
       "stream": "stdout",
       "text": [
        "2014-03-29 21:40:22,810 INFO sqlalchemy.engine.base.Engine (1, 0)\n"
       ]
      }
     ],
     "prompt_number": 23
    },
    {
     "cell_type": "code",
     "collapsed": false,
     "input": [
      "our_user"
     ],
     "language": "python",
     "metadata": {},
     "outputs": [
      {
       "metadata": {},
       "output_type": "pyout",
       "prompt_number": 24,
       "text": [
        "<User(name='ed', fullname='Ed Jones', password='edspassword')>"
       ]
      }
     ],
     "prompt_number": 24
    },
    {
     "cell_type": "code",
     "collapsed": false,
     "input": [
      "ed_user.password = 'f8s7ccs'"
     ],
     "language": "python",
     "metadata": {},
     "outputs": [],
     "prompt_number": 25
    },
    {
     "cell_type": "code",
     "collapsed": false,
     "input": [
      "session.dirty"
     ],
     "language": "python",
     "metadata": {},
     "outputs": [
      {
       "metadata": {},
       "output_type": "pyout",
       "prompt_number": 26,
       "text": [
        "IdentitySet([<User(name='ed', fullname='Ed Jones', password='f8s7ccs')>])"
       ]
      }
     ],
     "prompt_number": 26
    },
    {
     "cell_type": "code",
     "collapsed": false,
     "input": [
      "session.new"
     ],
     "language": "python",
     "metadata": {},
     "outputs": [
      {
       "metadata": {},
       "output_type": "pyout",
       "prompt_number": 27,
       "text": [
        "IdentitySet([])"
       ]
      }
     ],
     "prompt_number": 27
    },
    {
     "cell_type": "code",
     "collapsed": false,
     "input": [
      "session.commit()"
     ],
     "language": "python",
     "metadata": {},
     "outputs": [
      {
       "output_type": "stream",
       "stream": "stdout",
       "text": [
        "2014-03-29 21:40:23,123 INFO sqlalchemy.engine.base.Engine UPDATE users SET password=? WHERE users.id = ?\n"
       ]
      },
      {
       "output_type": "stream",
       "stream": "stdout",
       "text": [
        "2014-03-29 21:40:23,123 INFO sqlalchemy.engine.base.Engine ('f8s7ccs', 1)\n"
       ]
      },
      {
       "output_type": "stream",
       "stream": "stdout",
       "text": [
        "2014-03-29 21:40:23,124 INFO sqlalchemy.engine.base.Engine COMMIT\n"
       ]
      }
     ],
     "prompt_number": 28
    },
    {
     "cell_type": "code",
     "collapsed": false,
     "input": [
      "ed_user.id"
     ],
     "language": "python",
     "metadata": {},
     "outputs": [
      {
       "output_type": "stream",
       "stream": "stdout",
       "text": [
        "2014-03-29 21:40:23,189 INFO sqlalchemy.engine.base.Engine BEGIN (implicit)\n"
       ]
      },
      {
       "output_type": "stream",
       "stream": "stdout",
       "text": [
        "2014-03-29 21:40:23,190 INFO sqlalchemy.engine.base.Engine SELECT users.id AS users_id, users.name AS users_name, users.fullname AS users_fullname, users.password AS users_password \n",
        "FROM users \n",
        "WHERE users.id = ?\n"
       ]
      },
      {
       "output_type": "stream",
       "stream": "stdout",
       "text": [
        "2014-03-29 21:40:23,191 INFO sqlalchemy.engine.base.Engine (1,)\n"
       ]
      },
      {
       "metadata": {},
       "output_type": "pyout",
       "prompt_number": 29,
       "text": [
        "1"
       ]
      }
     ],
     "prompt_number": 29
    },
    {
     "cell_type": "heading",
     "level": 1,
     "metadata": {},
     "source": [
      "Rolling back"
     ]
    },
    {
     "cell_type": "code",
     "collapsed": false,
     "input": [
      "ed_user.name = 'Edwardo'"
     ],
     "language": "python",
     "metadata": {},
     "outputs": [],
     "prompt_number": 30
    },
    {
     "cell_type": "code",
     "collapsed": false,
     "input": [
      "fake_user = User(name='fakeuser', fullname='Invalid', password='12345')"
     ],
     "language": "python",
     "metadata": {},
     "outputs": [],
     "prompt_number": 31
    },
    {
     "cell_type": "code",
     "collapsed": false,
     "input": [
      "session.add(fake_user)"
     ],
     "language": "python",
     "metadata": {},
     "outputs": [],
     "prompt_number": 32
    },
    {
     "cell_type": "code",
     "collapsed": false,
     "input": [
      "session.query(User).filter(User.name.in_(['Edwardo', 'fakeuser'])).all()"
     ],
     "language": "python",
     "metadata": {},
     "outputs": [
      {
       "output_type": "stream",
       "stream": "stdout",
       "text": [
        "2014-03-29 21:40:23,465 INFO sqlalchemy.engine.base.Engine UPDATE users SET name=? WHERE users.id = ?\n"
       ]
      },
      {
       "output_type": "stream",
       "stream": "stdout",
       "text": [
        "2014-03-29 21:40:23,465 INFO sqlalchemy.engine.base.Engine ('Edwardo', 1)\n"
       ]
      },
      {
       "output_type": "stream",
       "stream": "stdout",
       "text": [
        "2014-03-29 21:40:23,466 INFO sqlalchemy.engine.base.Engine INSERT INTO users (name, fullname, password) VALUES (?, ?, ?)\n"
       ]
      },
      {
       "output_type": "stream",
       "stream": "stdout",
       "text": [
        "2014-03-29 21:40:23,467 INFO sqlalchemy.engine.base.Engine ('fakeuser', 'Invalid', '12345')\n"
       ]
      },
      {
       "output_type": "stream",
       "stream": "stdout",
       "text": [
        "2014-03-29 21:40:23,468 INFO sqlalchemy.engine.base.Engine SELECT users.id AS users_id, users.name AS users_name, users.fullname AS users_fullname, users.password AS users_password \n",
        "FROM users \n",
        "WHERE users.name IN (?, ?)\n"
       ]
      },
      {
       "output_type": "stream",
       "stream": "stdout",
       "text": [
        "2014-03-29 21:40:23,469 INFO sqlalchemy.engine.base.Engine ('Edwardo', 'fakeuser')\n"
       ]
      },
      {
       "metadata": {},
       "output_type": "pyout",
       "prompt_number": 33,
       "text": [
        "[<User(name='Edwardo', fullname='Ed Jones', password='f8s7ccs')>,\n",
        " <User(name='fakeuser', fullname='Invalid', password='12345')>]"
       ]
      }
     ],
     "prompt_number": 33
    },
    {
     "cell_type": "code",
     "collapsed": false,
     "input": [
      "session.rollback()"
     ],
     "language": "python",
     "metadata": {},
     "outputs": [
      {
       "output_type": "stream",
       "stream": "stdout",
       "text": [
        "2014-03-29 21:40:23,537 INFO sqlalchemy.engine.base.Engine ROLLBACK\n"
       ]
      }
     ],
     "prompt_number": 34
    },
    {
     "cell_type": "code",
     "collapsed": false,
     "input": [
      "ed_user.name"
     ],
     "language": "python",
     "metadata": {},
     "outputs": [
      {
       "output_type": "stream",
       "stream": "stdout",
       "text": [
        "2014-03-29 21:40:23,598 INFO sqlalchemy.engine.base.Engine BEGIN (implicit)\n"
       ]
      },
      {
       "output_type": "stream",
       "stream": "stdout",
       "text": [
        "2014-03-29 21:40:23,600 INFO sqlalchemy.engine.base.Engine SELECT users.id AS users_id, users.name AS users_name, users.fullname AS users_fullname, users.password AS users_password \n",
        "FROM users \n",
        "WHERE users.id = ?\n"
       ]
      },
      {
       "output_type": "stream",
       "stream": "stdout",
       "text": [
        "2014-03-29 21:40:23,600 INFO sqlalchemy.engine.base.Engine (1,)\n"
       ]
      },
      {
       "metadata": {},
       "output_type": "pyout",
       "prompt_number": 35,
       "text": [
        "u'ed'"
       ]
      }
     ],
     "prompt_number": 35
    },
    {
     "cell_type": "code",
     "collapsed": false,
     "input": [
      "fake_user in session"
     ],
     "language": "python",
     "metadata": {},
     "outputs": [
      {
       "metadata": {},
       "output_type": "pyout",
       "prompt_number": 36,
       "text": [
        "False"
       ]
      }
     ],
     "prompt_number": 36
    },
    {
     "cell_type": "code",
     "collapsed": false,
     "input": [
      "session.query(User).filter(User.name.in_(['ed', 'fakeuser'])).all()"
     ],
     "language": "python",
     "metadata": {},
     "outputs": [
      {
       "output_type": "stream",
       "stream": "stdout",
       "text": [
        "2014-03-29 21:40:23,738 INFO sqlalchemy.engine.base.Engine SELECT users.id AS users_id, users.name AS users_name, users.fullname AS users_fullname, users.password AS users_password \n",
        "FROM users \n",
        "WHERE users.name IN (?, ?)\n"
       ]
      },
      {
       "output_type": "stream",
       "stream": "stdout",
       "text": [
        "2014-03-29 21:40:23,738 INFO sqlalchemy.engine.base.Engine ('ed', 'fakeuser')\n"
       ]
      },
      {
       "metadata": {},
       "output_type": "pyout",
       "prompt_number": 37,
       "text": [
        "[<User(name='ed', fullname='Ed Jones', password='f8s7ccs')>]"
       ]
      }
     ],
     "prompt_number": 37
    },
    {
     "cell_type": "heading",
     "level": 1,
     "metadata": {},
     "source": [
      "Querying"
     ]
    },
    {
     "cell_type": "code",
     "collapsed": false,
     "input": [
      "for instance in session.query(User).order_by(User.id):\n",
      "    print instance.name, instance.fullname"
     ],
     "language": "python",
     "metadata": {},
     "outputs": [
      {
       "output_type": "stream",
       "stream": "stdout",
       "text": [
        "2014-03-29 21:40:23,824 INFO sqlalchemy.engine.base.Engine SELECT users.id AS users_id, users.name AS users_name, users.fullname AS users_fullname, users.password AS users_password \n",
        "FROM users ORDER BY users.id\n"
       ]
      },
      {
       "output_type": "stream",
       "stream": "stdout",
       "text": [
        "2014-03-29 21:40:23,825 INFO sqlalchemy.engine.base.Engine ()\n"
       ]
      },
      {
       "output_type": "stream",
       "stream": "stdout",
       "text": [
        "ed Ed Jones\n",
        "wendy Wendy Williams\n",
        "mary Mary Contrary\n",
        "fred Fred Flinstone\n"
       ]
      }
     ],
     "prompt_number": 38
    },
    {
     "cell_type": "code",
     "collapsed": false,
     "input": [
      "for name, fullname in session.query(User.name, User.fullname):\n",
      "    print name, fullname"
     ],
     "language": "python",
     "metadata": {},
     "outputs": [
      {
       "output_type": "stream",
       "stream": "stdout",
       "text": [
        "2014-03-29 21:40:23,898 INFO sqlalchemy.engine.base.Engine SELECT users.name AS users_name, users.fullname AS users_fullname \n",
        "FROM users\n"
       ]
      },
      {
       "output_type": "stream",
       "stream": "stdout",
       "text": [
        "2014-03-29 21:40:23,898 INFO sqlalchemy.engine.base.Engine ()\n"
       ]
      },
      {
       "output_type": "stream",
       "stream": "stdout",
       "text": [
        "ed Ed Jones\n",
        "wendy Wendy Williams\n",
        "mary Mary Contrary\n",
        "fred Fred Flinstone\n"
       ]
      }
     ],
     "prompt_number": 39
    },
    {
     "cell_type": "code",
     "collapsed": false,
     "input": [
      "for row in session.query(User, User.name).all():\n",
      "    print row.User, row.name"
     ],
     "language": "python",
     "metadata": {},
     "outputs": [
      {
       "output_type": "stream",
       "stream": "stdout",
       "text": [
        "2014-03-29 21:40:23,972 INFO sqlalchemy.engine.base.Engine SELECT users.id AS users_id, users.name AS users_name, users.fullname AS users_fullname, users.password AS users_password \n",
        "FROM users\n"
       ]
      },
      {
       "output_type": "stream",
       "stream": "stdout",
       "text": [
        "2014-03-29 21:40:23,973 INFO sqlalchemy.engine.base.Engine ()\n"
       ]
      },
      {
       "output_type": "stream",
       "stream": "stdout",
       "text": [
        "<User(name='ed', fullname='Ed Jones', password='f8s7ccs')> ed\n",
        "<User(name='wendy', fullname='Wendy Williams', password='foobar')> wendy\n",
        "<User(name='mary', fullname='Mary Contrary', password='xxg527')> mary\n",
        "<User(name='fred', fullname='Fred Flinstone', password='blah')> fred\n"
       ]
      }
     ],
     "prompt_number": 40
    },
    {
     "cell_type": "raw",
     "metadata": {},
     "source": [
      "You can control the names of individual column expressions using the label() construct, which is available from any ColumnElement-derived object, as well as any class attribute which is mapped to one (such as User.name):"
     ]
    },
    {
     "cell_type": "code",
     "collapsed": false,
     "input": [
      "for row in session.query(User.name.label('name_label')).all():\n",
      "    print(row.name_label)"
     ],
     "language": "python",
     "metadata": {},
     "outputs": [
      {
       "output_type": "stream",
       "stream": "stdout",
       "text": [
        "2014-03-29 21:40:24,109 INFO sqlalchemy.engine.base.Engine SELECT users.name AS name_label \n",
        "FROM users\n"
       ]
      },
      {
       "output_type": "stream",
       "stream": "stdout",
       "text": [
        "2014-03-29 21:40:24,110 INFO sqlalchemy.engine.base.Engine ()\n"
       ]
      },
      {
       "output_type": "stream",
       "stream": "stdout",
       "text": [
        "ed\n",
        "wendy\n",
        "mary\n",
        "fred\n"
       ]
      }
     ],
     "prompt_number": 41
    },
    {
     "cell_type": "code",
     "collapsed": false,
     "input": [
      "for row in session.query(User, User.name).all():\n",
      "    print row.User.id\n"
     ],
     "language": "python",
     "metadata": {},
     "outputs": [
      {
       "output_type": "stream",
       "stream": "stdout",
       "text": [
        "2014-03-29 21:40:24,183 INFO sqlalchemy.engine.base.Engine SELECT users.id AS users_id, users.name AS users_name, users.fullname AS users_fullname, users.password AS users_password \n",
        "FROM users\n"
       ]
      },
      {
       "output_type": "stream",
       "stream": "stdout",
       "text": [
        "2014-03-29 21:40:24,184 INFO sqlalchemy.engine.base.Engine ()\n"
       ]
      },
      {
       "output_type": "stream",
       "stream": "stdout",
       "text": [
        "1\n",
        "2\n",
        "3\n",
        "4\n"
       ]
      }
     ],
     "prompt_number": 42
    },
    {
     "cell_type": "code",
     "collapsed": false,
     "input": [
      "for u in session.query(User).order_by(User.id)[1:3]:\n",
      "    print u.name"
     ],
     "language": "python",
     "metadata": {},
     "outputs": [
      {
       "output_type": "stream",
       "stream": "stdout",
       "text": [
        "2014-03-29 21:40:24,254 INFO sqlalchemy.engine.base.Engine SELECT users.id AS users_id, users.name AS users_name, users.fullname AS users_fullname, users.password AS users_password \n",
        "FROM users ORDER BY users.id\n",
        " LIMIT ? OFFSET ?\n"
       ]
      },
      {
       "output_type": "stream",
       "stream": "stdout",
       "text": [
        "2014-03-29 21:40:24,255 INFO sqlalchemy.engine.base.Engine (2, 1)\n"
       ]
      },
      {
       "output_type": "stream",
       "stream": "stdout",
       "text": [
        "wendy\n",
        "mary\n"
       ]
      }
     ],
     "prompt_number": 43
    },
    {
     "cell_type": "code",
     "collapsed": false,
     "input": [
      "for name, in session.query(User.name).filter_by(fullname=\"Mary Contrary\"):\n",
      "    print name"
     ],
     "language": "python",
     "metadata": {},
     "outputs": [
      {
       "output_type": "stream",
       "stream": "stdout",
       "text": [
        "2014-03-29 21:40:24,329 INFO sqlalchemy.engine.base.Engine SELECT users.name AS users_name \n",
        "FROM users \n",
        "WHERE users.fullname = ?\n"
       ]
      },
      {
       "output_type": "stream",
       "stream": "stdout",
       "text": [
        "2014-03-29 21:40:24,330 INFO sqlalchemy.engine.base.Engine ('Mary Contrary',)\n"
       ]
      },
      {
       "output_type": "stream",
       "stream": "stdout",
       "text": [
        "mary\n"
       ]
      }
     ],
     "prompt_number": 44
    },
    {
     "cell_type": "raw",
     "metadata": {},
     "source": [
      "filter() is more flexible than filter_by(). Allows to use Python operators. class-level attributes."
     ]
    },
    {
     "cell_type": "code",
     "collapsed": false,
     "input": [
      "for name, in session.query(User.name).filter(User.fullname==\"Mary Contrary\"):\n",
      "    print name"
     ],
     "language": "python",
     "metadata": {},
     "outputs": [
      {
       "output_type": "stream",
       "stream": "stdout",
       "text": [
        "2014-03-29 21:40:24,458 INFO sqlalchemy.engine.base.Engine SELECT users.name AS users_name \n",
        "FROM users \n",
        "WHERE users.fullname = ?\n"
       ]
      },
      {
       "output_type": "stream",
       "stream": "stdout",
       "text": [
        "2014-03-29 21:40:24,459 INFO sqlalchemy.engine.base.Engine ('Mary Contrary',)\n"
       ]
      },
      {
       "output_type": "stream",
       "stream": "stdout",
       "text": [
        "mary\n"
       ]
      }
     ],
     "prompt_number": 45
    },
    {
     "cell_type": "raw",
     "metadata": {},
     "source": [
      "Query is generative!!"
     ]
    },
    {
     "cell_type": "code",
     "collapsed": false,
     "input": [
      "for user in session.query(User).\\\n",
      "    filter(User.name=='ed').\\\n",
      "    filter(User.fullname=='Ed Jones'): \n",
      "        print user"
     ],
     "language": "python",
     "metadata": {},
     "outputs": [
      {
       "output_type": "stream",
       "stream": "stdout",
       "text": [
        "2014-03-29 21:40:24,584 INFO sqlalchemy.engine.base.Engine SELECT users.id AS users_id, users.name AS users_name, users.fullname AS users_fullname, users.password AS users_password \n",
        "FROM users \n",
        "WHERE users.name = ? AND users.fullname = ?\n"
       ]
      },
      {
       "output_type": "stream",
       "stream": "stdout",
       "text": [
        "2014-03-29 21:40:24,585 INFO sqlalchemy.engine.base.Engine ('ed', 'Ed Jones')\n"
       ]
      },
      {
       "output_type": "stream",
       "stream": "stdout",
       "text": [
        "<User(name='ed', fullname='Ed Jones', password='f8s7ccs')>\n"
       ]
      }
     ],
     "prompt_number": 46
    },
    {
     "cell_type": "heading",
     "level": 2,
     "metadata": {},
     "source": [
      "Common filters"
     ]
    },
    {
     "cell_type": "markdown",
     "metadata": {},
     "source": [
      "equals:\n",
      "\n",
      "query.filter(User.name == 'ed')\n",
      "not equals:\n",
      "\n",
      "query.filter(User.name != 'ed')\n",
      "LIKE:\n",
      "\n",
      "query.filter(User.name.like('%ed%'))\n",
      "IN:\n",
      "\n",
      "query.filter(User.name.in_(['ed', 'wendy', 'jack']))\n",
      "\n",
      "# works with query objects too:\n",
      "query.filter(User.name.in_(\n",
      "        session.query(User.name).filter(User.name.like('%ed%'))\n",
      "))\n",
      "NOT IN:\n",
      "\n",
      "query.filter(~User.name.in_(['ed', 'wendy', 'jack']))\n",
      "IS NULL:\n",
      "\n",
      "query.filter(User.name == None)\n",
      "\n",
      "# alternatively, if pep8/linters are a concern\n",
      "query.filter(User.name.is_(None))\n",
      "IS NOT NULL:\n",
      "\n",
      "query.filter(User.name != None)\n",
      "\n",
      "# alternatively, if pep8/linters are a concern\n",
      "query.filter(User.name.isnot(None))\n",
      "AND:\n",
      "\n",
      "# use and_()\n",
      "from sqlalchemy import and_\n",
      "query.filter(and_(User.name == 'ed', User.fullname == 'Ed Jones'))\n",
      "\n",
      "# or send multiple expressions to .filter()\n",
      "query.filter(User.name == 'ed', User.fullname == 'Ed Jones')\n",
      "\n",
      "# or chain multiple filter()/filter_by() calls\n",
      "query.filter(User.name == 'ed').filter(User.fullname == 'Ed Jones')\n",
      "OR:\n",
      "\n",
      "from sqlalchemy import or_\n",
      "query.filter(or_(User.name == 'ed', User.name == 'wendy'))\n",
      "match:\n",
      "\n",
      "query.filter(User.name.match('wendy'))"
     ]
    },
    {
     "cell_type": "code",
     "collapsed": false,
     "input": [
      "from sqlalchemy import and_\n",
      "for name, in session.query(User.name).filter(and_(User.name == 'ed', User.fullname == 'Ed Jones')):\n",
      "    print name\n"
     ],
     "language": "python",
     "metadata": {},
     "outputs": [
      {
       "output_type": "stream",
       "stream": "stdout",
       "text": [
        "2014-03-29 21:40:24,690 INFO sqlalchemy.engine.base.Engine SELECT users.name AS users_name \n",
        "FROM users \n",
        "WHERE users.name = ? AND users.fullname = ?\n"
       ]
      },
      {
       "output_type": "stream",
       "stream": "stdout",
       "text": [
        "2014-03-29 21:40:24,690 INFO sqlalchemy.engine.base.Engine ('ed', 'Ed Jones')\n"
       ]
      },
      {
       "output_type": "stream",
       "stream": "stdout",
       "text": [
        "ed\n"
       ]
      }
     ],
     "prompt_number": 47
    },
    {
     "cell_type": "heading",
     "level": 1,
     "metadata": {},
     "source": [
      "Lists and scalars"
     ]
    },
    {
     "cell_type": "code",
     "collapsed": false,
     "input": [
      "query = session.query(User).filter(User.name.like('%ed')).order_by(User.id)"
     ],
     "language": "python",
     "metadata": {},
     "outputs": [],
     "prompt_number": 48
    },
    {
     "cell_type": "code",
     "collapsed": false,
     "input": [
      "query.all()"
     ],
     "language": "python",
     "metadata": {},
     "outputs": [
      {
       "output_type": "stream",
       "stream": "stdout",
       "text": [
        "2014-03-29 21:40:24,846 INFO sqlalchemy.engine.base.Engine SELECT users.id AS users_id, users.name AS users_name, users.fullname AS users_fullname, users.password AS users_password \n",
        "FROM users \n",
        "WHERE users.name LIKE ? ORDER BY users.id\n"
       ]
      },
      {
       "output_type": "stream",
       "stream": "stdout",
       "text": [
        "2014-03-29 21:40:24,846 INFO sqlalchemy.engine.base.Engine ('%ed',)\n"
       ]
      },
      {
       "metadata": {},
       "output_type": "pyout",
       "prompt_number": 49,
       "text": [
        "[<User(name='ed', fullname='Ed Jones', password='f8s7ccs')>,\n",
        " <User(name='fred', fullname='Fred Flinstone', password='blah')>]"
       ]
      }
     ],
     "prompt_number": 49
    },
    {
     "cell_type": "code",
     "collapsed": false,
     "input": [
      "query.first()"
     ],
     "language": "python",
     "metadata": {},
     "outputs": [
      {
       "output_type": "stream",
       "stream": "stdout",
       "text": [
        "2014-03-29 21:40:24,911 INFO sqlalchemy.engine.base.Engine SELECT users.id AS users_id, users.name AS users_name, users.fullname AS users_fullname, users.password AS users_password \n",
        "FROM users \n",
        "WHERE users.name LIKE ? ORDER BY users.id\n",
        " LIMIT ? OFFSET ?\n"
       ]
      },
      {
       "output_type": "stream",
       "stream": "stdout",
       "text": [
        "2014-03-29 21:40:24,912 INFO sqlalchemy.engine.base.Engine ('%ed', 1, 0)\n"
       ]
      },
      {
       "metadata": {},
       "output_type": "pyout",
       "prompt_number": 50,
       "text": [
        "<User(name='ed', fullname='Ed Jones', password='f8s7ccs')>"
       ]
      }
     ],
     "prompt_number": 50
    },
    {
     "cell_type": "heading",
     "level": 2,
     "metadata": {},
     "source": [
      "Exactly one result!"
     ]
    },
    {
     "cell_type": "code",
     "collapsed": false,
     "input": [
      "from sqlalchemy.orm.exc import MultipleResultsFound\n",
      "try:\n",
      "    user = query.one()\n",
      "except MultipleResultsFound, e:\n",
      "    print e"
     ],
     "language": "python",
     "metadata": {},
     "outputs": [
      {
       "output_type": "stream",
       "stream": "stdout",
       "text": [
        "2014-03-29 21:40:24,996 INFO sqlalchemy.engine.base.Engine SELECT users.id AS users_id, users.name AS users_name, users.fullname AS users_fullname, users.password AS users_password \n",
        "FROM users \n",
        "WHERE users.name LIKE ? ORDER BY users.id\n"
       ]
      },
      {
       "output_type": "stream",
       "stream": "stdout",
       "text": [
        "2014-03-29 21:40:24,997 INFO sqlalchemy.engine.base.Engine ('%ed',)\n"
       ]
      },
      {
       "output_type": "stream",
       "stream": "stdout",
       "text": [
        "Multiple rows were found for one()\n"
       ]
      }
     ],
     "prompt_number": 51
    },
    {
     "cell_type": "code",
     "collapsed": false,
     "input": [
      "from sqlalchemy.orm.exc import NoResultFound\n",
      "try:\n",
      "    user = query.filter(User.id == 99).one()\n",
      "except NoResultFound, e:print e"
     ],
     "language": "python",
     "metadata": {},
     "outputs": [
      {
       "output_type": "stream",
       "stream": "stdout",
       "text": [
        "2014-03-29 21:40:25,074 INFO sqlalchemy.engine.base.Engine SELECT users.id AS users_id, users.name AS users_name, users.fullname AS users_fullname, users.password AS users_password \n",
        "FROM users \n",
        "WHERE users.name LIKE ? AND users.id = ? ORDER BY users.id\n"
       ]
      },
      {
       "output_type": "stream",
       "stream": "stdout",
       "text": [
        "2014-03-29 21:40:25,075 INFO sqlalchemy.engine.base.Engine ('%ed', 99)\n"
       ]
      },
      {
       "output_type": "stream",
       "stream": "stdout",
       "text": [
        "No row was found for one()\n"
       ]
      }
     ],
     "prompt_number": 52
    },
    {
     "cell_type": "code",
     "collapsed": false,
     "input": [
      "query = session.query(User.id).filter(User.name == 'ed').order_by(User.id)\n",
      "query.scalar()"
     ],
     "language": "python",
     "metadata": {},
     "outputs": [
      {
       "output_type": "stream",
       "stream": "stdout",
       "text": [
        "2014-03-29 21:40:25,149 INFO sqlalchemy.engine.base.Engine SELECT users.id AS users_id \n",
        "FROM users \n",
        "WHERE users.name = ? ORDER BY users.id\n"
       ]
      },
      {
       "output_type": "stream",
       "stream": "stdout",
       "text": [
        "2014-03-29 21:40:25,150 INFO sqlalchemy.engine.base.Engine ('ed',)\n"
       ]
      },
      {
       "metadata": {},
       "output_type": "pyout",
       "prompt_number": 53,
       "text": [
        "1"
       ]
      }
     ],
     "prompt_number": 53
    },
    {
     "cell_type": "code",
     "collapsed": false,
     "input": [
      "session.query(User).filter(User.name.like('%ed')).count() "
     ],
     "language": "python",
     "metadata": {},
     "outputs": [
      {
       "output_type": "stream",
       "stream": "stdout",
       "text": [
        "2014-03-29 21:40:25,222 INFO sqlalchemy.engine.base.Engine SELECT count(*) AS count_1 \n",
        "FROM (SELECT users.id AS users_id, users.name AS users_name, users.fullname AS users_fullname, users.password AS users_password \n",
        "FROM users \n",
        "WHERE users.name LIKE ?) AS anon_1\n"
       ]
      },
      {
       "output_type": "stream",
       "stream": "stdout",
       "text": [
        "2014-03-29 21:40:25,222 INFO sqlalchemy.engine.base.Engine ('%ed',)\n"
       ]
      },
      {
       "metadata": {},
       "output_type": "pyout",
       "prompt_number": 54,
       "text": [
        "2"
       ]
      }
     ],
     "prompt_number": 54
    },
    {
     "cell_type": "code",
     "collapsed": false,
     "input": [
      "from sqlalchemy import func\n",
      "session.query(func.count(User.name), User.name).group_by(User.name).all() # count each name"
     ],
     "language": "python",
     "metadata": {},
     "outputs": [
      {
       "output_type": "stream",
       "stream": "stdout",
       "text": [
        "2014-03-29 21:40:25,294 INFO sqlalchemy.engine.base.Engine SELECT count(users.name) AS count_1, users.name AS users_name \n",
        "FROM users GROUP BY users.name\n"
       ]
      },
      {
       "output_type": "stream",
       "stream": "stdout",
       "text": [
        "2014-03-29 21:40:25,295 INFO sqlalchemy.engine.base.Engine ()\n"
       ]
      },
      {
       "metadata": {},
       "output_type": "pyout",
       "prompt_number": 55,
       "text": [
        "[(1, u'ed'), (1, u'fred'), (1, u'mary'), (1, u'wendy')]"
       ]
      }
     ],
     "prompt_number": 55
    },
    {
     "cell_type": "code",
     "collapsed": false,
     "input": [
      "session.query(func.count('*')).select_from(User).scalar() # == SELECT * FROM table"
     ],
     "language": "python",
     "metadata": {},
     "outputs": [
      {
       "output_type": "stream",
       "stream": "stdout",
       "text": [
        "2014-03-29 21:40:25,365 INFO sqlalchemy.engine.base.Engine SELECT count(?) AS count_1 \n",
        "FROM users\n"
       ]
      },
      {
       "output_type": "stream",
       "stream": "stdout",
       "text": [
        "2014-03-29 21:40:25,366 INFO sqlalchemy.engine.base.Engine ('*',)\n"
       ]
      },
      {
       "metadata": {},
       "output_type": "pyout",
       "prompt_number": 56,
       "text": [
        "4"
       ]
      }
     ],
     "prompt_number": 56
    },
    {
     "cell_type": "code",
     "collapsed": false,
     "input": [
      "session.query(func.count(User.id)).scalar() # using primary key directly"
     ],
     "language": "python",
     "metadata": {},
     "outputs": [
      {
       "output_type": "stream",
       "stream": "stdout",
       "text": [
        "2014-03-29 21:40:25,435 INFO sqlalchemy.engine.base.Engine SELECT count(users.id) AS count_1 \n",
        "FROM users\n"
       ]
      },
      {
       "output_type": "stream",
       "stream": "stdout",
       "text": [
        "2014-03-29 21:40:25,436 INFO sqlalchemy.engine.base.Engine ()\n"
       ]
      },
      {
       "metadata": {},
       "output_type": "pyout",
       "prompt_number": 57,
       "text": [
        "4"
       ]
      }
     ],
     "prompt_number": 57
    },
    {
     "cell_type": "heading",
     "level": 1,
     "metadata": {},
     "source": [
      "Building relationships"
     ]
    },
    {
     "cell_type": "code",
     "collapsed": false,
     "input": [
      "from sqlalchemy import ForeignKey\n",
      "from sqlalchemy.orm import relationship, backref"
     ],
     "language": "python",
     "metadata": {},
     "outputs": [],
     "prompt_number": 58
    },
    {
     "cell_type": "code",
     "collapsed": false,
     "input": [
      "class Address(Base):\n",
      "    __tablename__ = 'addresses'\n",
      "    id = Column(Integer, primary_key=True)\n",
      "    email_address = Column(String, nullable=False)\n",
      "    user_id = Column(Integer, ForeignKey('users.id'))\n",
      "    \n",
      "    user = relationship(\"User\", backref=backref('addresses', order_by=id))\n",
      "    \n",
      "    def __repr__(self):\n",
      "        return \"<Address(email_address='%s')>\" % self.email_address"
     ],
     "language": "python",
     "metadata": {},
     "outputs": [],
     "prompt_number": 59
    },
    {
     "cell_type": "raw",
     "metadata": {},
     "source": [
      "The above class introduces the ForeignKey construct, which is a directive applied to Column that indicates that values in this column should be constrained to be values present in the named remote column."
     ]
    },
    {
     "cell_type": "raw",
     "metadata": {},
     "source": [
      "A second directive, known as relationship(), tells the ORM that the Address class itself should be linked to the User class, using the attribute Address.user. relationship() uses the foreign key relationships between the two tables to determine the nature of this linkage, determining that Address.user will be many to one."
     ]
    },
    {
     "cell_type": "raw",
     "metadata": {},
     "source": [
      "The two complementing relationships Address.user and User.addresses are referred to as a bidirectional relationship, and is a key feature of the SQLAlchemy ORM"
     ]
    },
    {
     "cell_type": "raw",
     "metadata": {},
     "source": [
      "The bidirectionality could be created in User instead:"
     ]
    },
    {
     "cell_type": "code",
     "collapsed": false,
     "input": [
      "# class User(Base):\n",
      "    # ....\n",
      "    # addresses = relationship(\"Address\", order_by=\"Address.id\", backref=\"user\")"
     ],
     "language": "python",
     "metadata": {},
     "outputs": [],
     "prompt_number": 60
    },
    {
     "cell_type": "code",
     "collapsed": false,
     "input": [
      "Base.metadata.create_all(engine)"
     ],
     "language": "python",
     "metadata": {},
     "outputs": [
      {
       "output_type": "stream",
       "stream": "stdout",
       "text": [
        "2014-03-29 21:40:25,979 INFO sqlalchemy.engine.base.Engine PRAGMA table_info(\"users\")\n"
       ]
      },
      {
       "output_type": "stream",
       "stream": "stdout",
       "text": [
        "2014-03-29 21:40:25,979 INFO sqlalchemy.engine.base.Engine ()\n"
       ]
      },
      {
       "output_type": "stream",
       "stream": "stdout",
       "text": [
        "2014-03-29 21:40:25,980 INFO sqlalchemy.engine.base.Engine PRAGMA table_info(\"addresses\")\n"
       ]
      },
      {
       "output_type": "stream",
       "stream": "stdout",
       "text": [
        "2014-03-29 21:40:25,980 INFO sqlalchemy.engine.base.Engine ()\n"
       ]
      },
      {
       "output_type": "stream",
       "stream": "stdout",
       "text": [
        "2014-03-29 21:40:25,981 INFO sqlalchemy.engine.base.Engine \n",
        "CREATE TABLE addresses (\n",
        "\tid INTEGER NOT NULL, \n",
        "\temail_address VARCHAR NOT NULL, \n",
        "\tuser_id INTEGER, \n",
        "\tPRIMARY KEY (id), \n",
        "\tFOREIGN KEY(user_id) REFERENCES users (id)\n",
        ")\n",
        "\n",
        "\n"
       ]
      },
      {
       "output_type": "stream",
       "stream": "stdout",
       "text": [
        "2014-03-29 21:40:25,982 INFO sqlalchemy.engine.base.Engine ()\n"
       ]
      },
      {
       "output_type": "stream",
       "stream": "stdout",
       "text": [
        "2014-03-29 21:40:25,983 INFO sqlalchemy.engine.base.Engine COMMIT\n"
       ]
      }
     ],
     "prompt_number": 61
    },
    {
     "cell_type": "code",
     "collapsed": false,
     "input": [
      "jack = User(name='jack', fullname='Jack Bean', password='gjffdd')"
     ],
     "language": "python",
     "metadata": {},
     "outputs": [],
     "prompt_number": 62
    },
    {
     "cell_type": "code",
     "collapsed": false,
     "input": [
      "jack.addresses"
     ],
     "language": "python",
     "metadata": {},
     "outputs": [
      {
       "metadata": {},
       "output_type": "pyout",
       "prompt_number": 63,
       "text": [
        "[]"
       ]
      }
     ],
     "prompt_number": 63
    },
    {
     "cell_type": "code",
     "collapsed": false,
     "input": [
      "jack.addresses = [Address(email_address='jack@google.com'),\n",
      "                  Address(email_address='j25@yahoo.com')]"
     ],
     "language": "python",
     "metadata": {},
     "outputs": [],
     "prompt_number": 64
    },
    {
     "cell_type": "code",
     "collapsed": false,
     "input": [
      "jack.addresses[1].user"
     ],
     "language": "python",
     "metadata": {},
     "outputs": [
      {
       "metadata": {},
       "output_type": "pyout",
       "prompt_number": 65,
       "text": [
        "<User(name='jack', fullname='Jack Bean', password='gjffdd')>"
       ]
      }
     ],
     "prompt_number": 65
    },
    {
     "cell_type": "code",
     "collapsed": false,
     "input": [
      "session.add(jack)"
     ],
     "language": "python",
     "metadata": {},
     "outputs": [],
     "prompt_number": 66
    },
    {
     "cell_type": "code",
     "collapsed": false,
     "input": [
      "session.commit()"
     ],
     "language": "python",
     "metadata": {},
     "outputs": [
      {
       "output_type": "stream",
       "stream": "stdout",
       "text": [
        "2014-03-29 21:40:26,417 INFO sqlalchemy.engine.base.Engine INSERT INTO users (name, fullname, password) VALUES (?, ?, ?)\n"
       ]
      },
      {
       "output_type": "stream",
       "stream": "stdout",
       "text": [
        "2014-03-29 21:40:26,417 INFO sqlalchemy.engine.base.Engine ('jack', 'Jack Bean', 'gjffdd')\n"
       ]
      },
      {
       "output_type": "stream",
       "stream": "stdout",
       "text": [
        "2014-03-29 21:40:26,419 INFO sqlalchemy.engine.base.Engine INSERT INTO addresses (email_address, user_id) VALUES (?, ?)\n"
       ]
      },
      {
       "output_type": "stream",
       "stream": "stdout",
       "text": [
        "2014-03-29 21:40:26,420 INFO sqlalchemy.engine.base.Engine ('jack@google.com', 5)\n"
       ]
      },
      {
       "output_type": "stream",
       "stream": "stdout",
       "text": [
        "2014-03-29 21:40:26,420 INFO sqlalchemy.engine.base.Engine INSERT INTO addresses (email_address, user_id) VALUES (?, ?)\n"
       ]
      },
      {
       "output_type": "stream",
       "stream": "stdout",
       "text": [
        "2014-03-29 21:40:26,421 INFO sqlalchemy.engine.base.Engine ('j25@yahoo.com', 5)\n"
       ]
      },
      {
       "output_type": "stream",
       "stream": "stdout",
       "text": [
        "2014-03-29 21:40:26,422 INFO sqlalchemy.engine.base.Engine COMMIT\n"
       ]
      }
     ],
     "prompt_number": 67
    },
    {
     "cell_type": "code",
     "collapsed": false,
     "input": [
      "jack = session.query(User).filter_by(name='jack').one()"
     ],
     "language": "python",
     "metadata": {},
     "outputs": [
      {
       "output_type": "stream",
       "stream": "stdout",
       "text": [
        "2014-03-29 21:40:26,496 INFO sqlalchemy.engine.base.Engine BEGIN (implicit)\n"
       ]
      },
      {
       "output_type": "stream",
       "stream": "stdout",
       "text": [
        "2014-03-29 21:40:26,497 INFO sqlalchemy.engine.base.Engine SELECT users.id AS users_id, users.name AS users_name, users.fullname AS users_fullname, users.password AS users_password \n",
        "FROM users \n",
        "WHERE users.name = ?\n"
       ]
      },
      {
       "output_type": "stream",
       "stream": "stdout",
       "text": [
        "2014-03-29 21:40:26,497 INFO sqlalchemy.engine.base.Engine ('jack',)\n"
       ]
      }
     ],
     "prompt_number": 68
    },
    {
     "cell_type": "code",
     "collapsed": false,
     "input": [
      "jack"
     ],
     "language": "python",
     "metadata": {},
     "outputs": [
      {
       "metadata": {},
       "output_type": "pyout",
       "prompt_number": 69,
       "text": [
        "<User(name='jack', fullname='Jack Bean', password='gjffdd')>"
       ]
      }
     ],
     "prompt_number": 69
    },
    {
     "cell_type": "code",
     "collapsed": false,
     "input": [
      "jack.addresses"
     ],
     "language": "python",
     "metadata": {},
     "outputs": [
      {
       "output_type": "stream",
       "stream": "stdout",
       "text": [
        "2014-03-29 21:40:26,646 INFO sqlalchemy.engine.base.Engine SELECT addresses.id AS addresses_id, addresses.email_address AS addresses_email_address, addresses.user_id AS addresses_user_id \n",
        "FROM addresses \n",
        "WHERE ? = addresses.user_id ORDER BY addresses.id\n"
       ]
      },
      {
       "output_type": "stream",
       "stream": "stdout",
       "text": [
        "2014-03-29 21:40:26,647 INFO sqlalchemy.engine.base.Engine (5,)\n"
       ]
      },
      {
       "metadata": {},
       "output_type": "pyout",
       "prompt_number": 70,
       "text": [
        "[<Address(email_address='jack@google.com')>,\n",
        " <Address(email_address='j25@yahoo.com')>]"
       ]
      }
     ],
     "prompt_number": 70
    },
    {
     "cell_type": "code",
     "collapsed": false,
     "input": [
      "for u, a in session.query(User, Address).\\\n",
      "    filter(User.id==Address.user_id).\\\n",
      "    filter(Address.email_address=='jack@google.com').\\\n",
      "    all():\n",
      "        print u\n",
      "        print a"
     ],
     "language": "python",
     "metadata": {},
     "outputs": [
      {
       "output_type": "stream",
       "stream": "stdout",
       "text": [
        "2014-03-29 21:40:26,729 INFO sqlalchemy.engine.base.Engine SELECT users.id AS users_id, users.name AS users_name, users.fullname AS users_fullname, users.password AS users_password, addresses.id AS addresses_id, addresses.email_address AS addresses_email_address, addresses.user_id AS addresses_user_id \n",
        "FROM users, addresses \n",
        "WHERE users.id = addresses.user_id AND addresses.email_address = ?\n"
       ]
      },
      {
       "output_type": "stream",
       "stream": "stdout",
       "text": [
        "2014-03-29 21:40:26,730 INFO sqlalchemy.engine.base.Engine ('jack@google.com',)\n"
       ]
      },
      {
       "output_type": "stream",
       "stream": "stdout",
       "text": [
        "<User(name='jack', fullname='Jack Bean', password='gjffdd')>\n",
        "<Address(email_address='jack@google.com')>\n"
       ]
      }
     ],
     "prompt_number": 71
    },
    {
     "cell_type": "code",
     "collapsed": false,
     "input": [
      "session.query(User).join(Address).\\\n",
      "    filter(Address.email_address=='jack@google.com').\\\n",
      "    all() "
     ],
     "language": "python",
     "metadata": {},
     "outputs": [
      {
       "output_type": "stream",
       "stream": "stdout",
       "text": [
        "2014-03-29 21:40:26,803 INFO sqlalchemy.engine.base.Engine SELECT users.id AS users_id, users.name AS users_name, users.fullname AS users_fullname, users.password AS users_password \n",
        "FROM users JOIN addresses ON users.id = addresses.user_id \n",
        "WHERE addresses.email_address = ?\n"
       ]
      },
      {
       "output_type": "stream",
       "stream": "stdout",
       "text": [
        "2014-03-29 21:40:26,804 INFO sqlalchemy.engine.base.Engine ('jack@google.com',)\n"
       ]
      },
      {
       "metadata": {},
       "output_type": "pyout",
       "prompt_number": 72,
       "text": [
        "[<User(name='jack', fullname='Jack Bean', password='gjffdd')>]"
       ]
      }
     ],
     "prompt_number": 72
    },
    {
     "cell_type": "raw",
     "metadata": {},
     "source": [
      "Knows how to join because of the foreign key. Explicit options:\n",
      "query.join(Address, User.id==Address.user_id)    # explicit condition\n",
      "query.join(User.addresses)                       # specify relationship from left to right\n",
      "query.join(Address, User.addresses)              # same, with explicit target\n",
      "query.join('addresses')                          # same, using a string\n",
      "query.outerjoin(User.addresses)   # LEFT OUTER JOIN"
     ]
    },
    {
     "cell_type": "code",
     "collapsed": false,
     "input": [
      "# Alias if using the table more than once\n",
      "from sqlalchemy.orm import aliased\n",
      "adalias1 = aliased(Address)\n",
      "adalias2 = aliased(Address)\n",
      "for username, email1, email2 in \\\n",
      "session.query(User.name, adalias1.email_address, adalias2.email_address).\\\n",
      "join(adalias1, User.addresses).\\\n",
      "join(adalias2, User.addresses).\\\n",
      "filter(adalias1.email_address=='jack@google.com').\\\n",
      "filter(adalias2.email_address=='j25@yahoo.com'):\n",
      "    print username, email1, email2 "
     ],
     "language": "python",
     "metadata": {},
     "outputs": [
      {
       "output_type": "stream",
       "stream": "stdout",
       "text": [
        "2014-03-29 21:40:26,945 INFO sqlalchemy.engine.base.Engine SELECT users.name AS users_name, addresses_1.email_address AS addresses_1_email_address, addresses_2.email_address AS addresses_2_email_address \n",
        "FROM users JOIN addresses AS addresses_1 ON users.id = addresses_1.user_id JOIN addresses AS addresses_2 ON users.id = addresses_2.user_id \n",
        "WHERE addresses_1.email_address = ? AND addresses_2.email_address = ?\n"
       ]
      },
      {
       "output_type": "stream",
       "stream": "stdout",
       "text": [
        "2014-03-29 21:40:26,946 INFO sqlalchemy.engine.base.Engine ('jack@google.com', 'j25@yahoo.com')\n"
       ]
      },
      {
       "output_type": "stream",
       "stream": "stdout",
       "text": [
        "jack jack@google.com j25@yahoo.com\n"
       ]
      }
     ],
     "prompt_number": 73
    },
    {
     "cell_type": "code",
     "collapsed": false,
     "input": [
      "from sqlalchemy.sql import func\n",
      "stmt = session.query(Address.user_id, func.count('*').\\\n",
      "                     label('address_count')).\\\n",
      "group_by(Address.user_id).subquery()"
     ],
     "language": "python",
     "metadata": {},
     "outputs": [],
     "prompt_number": 74
    },
    {
     "cell_type": "code",
     "collapsed": false,
     "input": [
      "for u, count in session.query(User, stmt.c.address_count).\\\n",
      "outerjoin(stmt, User.id==stmt.c.user_id).order_by(User.id):\n",
      "    print u, count"
     ],
     "language": "python",
     "metadata": {},
     "outputs": [
      {
       "output_type": "stream",
       "stream": "stdout",
       "text": [
        "2014-03-29 21:40:27,095 INFO sqlalchemy.engine.base.Engine SELECT users.id AS users_id, users.name AS users_name, users.fullname AS users_fullname, users.password AS users_password, anon_1.address_count AS anon_1_address_count \n",
        "FROM users LEFT OUTER JOIN (SELECT addresses.user_id AS user_id, count(?) AS address_count \n",
        "FROM addresses GROUP BY addresses.user_id) AS anon_1 ON users.id = anon_1.user_id ORDER BY users.id\n"
       ]
      },
      {
       "output_type": "stream",
       "stream": "stdout",
       "text": [
        "2014-03-29 21:40:27,096 INFO sqlalchemy.engine.base.Engine ('*',)\n"
       ]
      },
      {
       "output_type": "stream",
       "stream": "stdout",
       "text": [
        "<User(name='ed', fullname='Ed Jones', password='f8s7ccs')> None\n",
        "<User(name='wendy', fullname='Wendy Williams', password='foobar')> None\n",
        "<User(name='mary', fullname='Mary Contrary', password='xxg527')> None\n",
        "<User(name='fred', fullname='Fred Flinstone', password='blah')> None\n",
        "<User(name='jack', fullname='Jack Bean', password='gjffdd')> 2\n"
       ]
      }
     ],
     "prompt_number": 75
    },
    {
     "cell_type": "code",
     "collapsed": false,
     "input": [
      "# SUBQUERIES\n",
      "stmt = session.query(Address).\\\n",
      "filter(Address.email_address != 'j25@yahoo.com').\\\n",
      "subquery()\n",
      "adalias = aliased(Address, stmt)\n",
      "for user, address in session.query(User, adalias).\\\n",
      "join(adalias, User.addresses): \n",
      "    print user\n",
      "    print address"
     ],
     "language": "python",
     "metadata": {},
     "outputs": [
      {
       "output_type": "stream",
       "stream": "stdout",
       "text": [
        "2014-03-29 21:40:27,177 INFO sqlalchemy.engine.base.Engine SELECT users.id AS users_id, users.name AS users_name, users.fullname AS users_fullname, users.password AS users_password, anon_1.id AS anon_1_id, anon_1.email_address AS anon_1_email_address, anon_1.user_id AS anon_1_user_id \n",
        "FROM users JOIN (SELECT addresses.id AS id, addresses.email_address AS email_address, addresses.user_id AS user_id \n",
        "FROM addresses \n",
        "WHERE addresses.email_address != ?) AS anon_1 ON users.id = anon_1.user_id\n"
       ]
      },
      {
       "output_type": "stream",
       "stream": "stdout",
       "text": [
        "2014-03-29 21:40:27,178 INFO sqlalchemy.engine.base.Engine ('j25@yahoo.com',)\n"
       ]
      },
      {
       "output_type": "stream",
       "stream": "stdout",
       "text": [
        "<User(name='jack', fullname='Jack Bean', password='gjffdd')>\n",
        "<Address(email_address='jack@google.com')>\n"
       ]
      }
     ],
     "prompt_number": 76
    },
    {
     "cell_type": "code",
     "collapsed": false,
     "input": [
      "# Exists\n",
      "from sqlalchemy.sql import exists\n",
      "stmt = exists().where(Address.user_id==User.id)\n",
      "for name, in session.query(User.name).filter(stmt):\n",
      "    print name"
     ],
     "language": "python",
     "metadata": {},
     "outputs": [
      {
       "output_type": "stream",
       "stream": "stdout",
       "text": [
        "2014-03-29 21:40:27,255 INFO sqlalchemy.engine.base.Engine SELECT users.name AS users_name \n",
        "FROM users \n",
        "WHERE EXISTS (SELECT * \n",
        "FROM addresses \n",
        "WHERE addresses.user_id = users.id)\n"
       ]
      },
      {
       "output_type": "stream",
       "stream": "stdout",
       "text": [
        "2014-03-29 21:40:27,256 INFO sqlalchemy.engine.base.Engine ()\n"
       ]
      },
      {
       "output_type": "stream",
       "stream": "stdout",
       "text": [
        "jack\n"
       ]
      }
     ],
     "prompt_number": 77
    },
    {
     "cell_type": "code",
     "collapsed": false,
     "input": [
      "from sqlalchemy.sql import exists\n",
      "stmt = exists().where(Address.user_id==User.id)\n",
      "for name, in session.query(User.name).filter(stmt):\n",
      "    print name"
     ],
     "language": "python",
     "metadata": {},
     "outputs": [
      {
       "output_type": "stream",
       "stream": "stdout",
       "text": [
        "2014-03-29 21:40:27,328 INFO sqlalchemy.engine.base.Engine SELECT users.name AS users_name \n",
        "FROM users \n",
        "WHERE EXISTS (SELECT * \n",
        "FROM addresses \n",
        "WHERE addresses.user_id = users.id)\n"
       ]
      },
      {
       "output_type": "stream",
       "stream": "stdout",
       "text": [
        "2014-03-29 21:40:27,329 INFO sqlalchemy.engine.base.Engine ()\n"
       ]
      },
      {
       "output_type": "stream",
       "stream": "stdout",
       "text": [
        "jack\n"
       ]
      }
     ],
     "prompt_number": 78
    },
    {
     "cell_type": "code",
     "collapsed": false,
     "input": [
      "for name, in session.query(User.name).\\\n",
      "filter(User.addresses.any(Address.email_address.like('%google%'))):\n",
      "    print name"
     ],
     "language": "python",
     "metadata": {},
     "outputs": [
      {
       "output_type": "stream",
       "stream": "stdout",
       "text": [
        "2014-03-29 21:40:27,401 INFO sqlalchemy.engine.base.Engine SELECT users.name AS users_name \n",
        "FROM users \n",
        "WHERE EXISTS (SELECT 1 \n",
        "FROM addresses \n",
        "WHERE users.id = addresses.user_id AND addresses.email_address LIKE ?)\n"
       ]
      },
      {
       "output_type": "stream",
       "stream": "stdout",
       "text": [
        "2014-03-29 21:40:27,402 INFO sqlalchemy.engine.base.Engine ('%google%',)\n"
       ]
      },
      {
       "output_type": "stream",
       "stream": "stdout",
       "text": [
        "jack\n"
       ]
      }
     ],
     "prompt_number": 79
    },
    {
     "cell_type": "code",
     "collapsed": false,
     "input": [
      "# has = any\n",
      "session.query(Address).\\\n",
      "filter(~Address.user.has(User.name=='jack')).all() "
     ],
     "language": "python",
     "metadata": {},
     "outputs": [
      {
       "output_type": "stream",
       "stream": "stdout",
       "text": [
        "2014-03-29 21:40:27,473 INFO sqlalchemy.engine.base.Engine SELECT addresses.id AS addresses_id, addresses.email_address AS addresses_email_address, addresses.user_id AS addresses_user_id \n",
        "FROM addresses \n",
        "WHERE NOT (EXISTS (SELECT 1 \n",
        "FROM users \n",
        "WHERE users.id = addresses.user_id AND users.name = ?))\n"
       ]
      },
      {
       "output_type": "stream",
       "stream": "stdout",
       "text": [
        "2014-03-29 21:40:27,474 INFO sqlalchemy.engine.base.Engine ('jack',)\n"
       ]
      },
      {
       "metadata": {},
       "output_type": "pyout",
       "prompt_number": 80,
       "text": [
        "[]"
       ]
      }
     ],
     "prompt_number": 80
    },
    {
     "cell_type": "raw",
     "metadata": {},
     "source": [
      "Relationship operators\n",
      "__eq__() (many-to-one \u201cequals\u201d comparison):\n",
      "\n",
      "query.filter(Address.user == someuser)\n",
      "__ne__() (many-to-one \u201cnot equals\u201d comparison):\n",
      "\n",
      "query.filter(Address.user != someuser)\n",
      "IS NULL (many-to-one comparison, also uses __eq__()):\n",
      "\n",
      "query.filter(Address.user == None)\n",
      "contains() (used for one-to-many collections):\n",
      "\n",
      "query.filter(User.addresses.contains(someaddress))\n",
      "any() (used for collections):\n",
      "\n",
      "query.filter(User.addresses.any(Address.email_address == 'bar'))\n",
      "\n",
      "# also takes keyword arguments:\n",
      "query.filter(User.addresses.any(email_address='bar'))\n",
      "has() (used for scalar references):\n",
      "\n",
      "query.filter(Address.user.has(name='ed'))\n",
      "Query.with_parent() (used for any relationship):\n",
      "\n",
      "session.query(Address).with_parent(someuser, 'addresses')"
     ]
    },
    {
     "cell_type": "heading",
     "level": 1,
     "metadata": {},
     "source": [
      "Eager loading"
     ]
    },
    {
     "cell_type": "code",
     "collapsed": false,
     "input": [
      "# SUBQUERY LOAD. Newer. better suited for loading related collections\n",
      "from sqlalchemy.orm import subqueryload\n",
      "jack = session.query(User).\\\n",
      "                 options(subqueryload(User.addresses)).\\\n",
      "                 filter_by(name='jack').one()"
     ],
     "language": "python",
     "metadata": {},
     "outputs": [
      {
       "output_type": "stream",
       "stream": "stdout",
       "text": [
        "2014-03-29 21:40:27,624 INFO sqlalchemy.engine.base.Engine SELECT users.id AS users_id, users.name AS users_name, users.fullname AS users_fullname, users.password AS users_password \n",
        "FROM users \n",
        "WHERE users.name = ?\n"
       ]
      },
      {
       "output_type": "stream",
       "stream": "stdout",
       "text": [
        "2014-03-29 21:40:27,624 INFO sqlalchemy.engine.base.Engine ('jack',)\n"
       ]
      },
      {
       "output_type": "stream",
       "stream": "stdout",
       "text": [
        "2014-03-29 21:40:27,630 INFO sqlalchemy.engine.base.Engine SELECT addresses.id AS addresses_id, addresses.email_address AS addresses_email_address, addresses.user_id AS addresses_user_id, anon_1.users_id AS anon_1_users_id \n",
        "FROM (SELECT users.id AS users_id \n",
        "FROM users \n",
        "WHERE users.name = ?) AS anon_1 JOIN addresses ON anon_1.users_id = addresses.user_id ORDER BY anon_1.users_id, addresses.id\n"
       ]
      },
      {
       "output_type": "stream",
       "stream": "stdout",
       "text": [
        "2014-03-29 21:40:27,630 INFO sqlalchemy.engine.base.Engine ('jack',)\n"
       ]
      }
     ],
     "prompt_number": 81
    },
    {
     "cell_type": "code",
     "collapsed": false,
     "input": [
      "jack"
     ],
     "language": "python",
     "metadata": {},
     "outputs": [
      {
       "metadata": {},
       "output_type": "pyout",
       "prompt_number": 82,
       "text": [
        "<User(name='jack', fullname='Jack Bean', password='gjffdd')>"
       ]
      }
     ],
     "prompt_number": 82
    },
    {
     "cell_type": "code",
     "collapsed": false,
     "input": [
      "jack.addresses"
     ],
     "language": "python",
     "metadata": {},
     "outputs": [
      {
       "metadata": {},
       "output_type": "pyout",
       "prompt_number": 83,
       "text": [
        "[<Address(email_address='jack@google.com')>,\n",
        " <Address(email_address='j25@yahoo.com')>]"
       ]
      }
     ],
     "prompt_number": 83
    },
    {
     "cell_type": "code",
     "collapsed": false,
     "input": [
      "# JOINED LOAD - left outer join by default. Better suited for many-to-one relationships\n",
      "from sqlalchemy.orm import joinedload\n",
      "jack = session.query(User).\\\n",
      "                        options(joinedload(User.addresses)).\\\n",
      "                        filter_by(name='jack').one() "
     ],
     "language": "python",
     "metadata": {},
     "outputs": [
      {
       "output_type": "stream",
       "stream": "stdout",
       "text": [
        "2014-03-29 21:40:29,529 INFO sqlalchemy.engine.base.Engine SELECT users.id AS users_id, users.name AS users_name, users.fullname AS users_fullname, users.password AS users_password, addresses_1.id AS addresses_1_id, addresses_1.email_address AS addresses_1_email_address, addresses_1.user_id AS addresses_1_user_id \n",
        "FROM users LEFT OUTER JOIN addresses AS addresses_1 ON users.id = addresses_1.user_id \n",
        "WHERE users.name = ? ORDER BY addresses_1.id\n"
       ]
      },
      {
       "output_type": "stream",
       "stream": "stdout",
       "text": [
        "2014-03-29 21:40:29,530 INFO sqlalchemy.engine.base.Engine ('jack',)\n"
       ]
      }
     ],
     "prompt_number": 84
    },
    {
     "cell_type": "code",
     "collapsed": false,
     "input": [
      "jack"
     ],
     "language": "python",
     "metadata": {},
     "outputs": [
      {
       "metadata": {},
       "output_type": "pyout",
       "prompt_number": 85,
       "text": [
        "<User(name='jack', fullname='Jack Bean', password='gjffdd')>"
       ]
      }
     ],
     "prompt_number": 85
    },
    {
     "cell_type": "code",
     "collapsed": false,
     "input": [
      "jack.addresses"
     ],
     "language": "python",
     "metadata": {},
     "outputs": [
      {
       "metadata": {},
       "output_type": "pyout",
       "prompt_number": 86,
       "text": [
        "[<Address(email_address='jack@google.com')>,\n",
        " <Address(email_address='j25@yahoo.com')>]"
       ]
      }
     ],
     "prompt_number": 86
    },
    {
     "cell_type": "code",
     "collapsed": false,
     "input": [
      "# Explicit join + Eager load\n",
      "# Construct join explicitly to locate primary rows, additionally applying extra table to related object/collection on primary object.\n",
      "from sqlalchemy.orm import contains_eager\n",
      "jacks_addresses = session.query(Address).\\\n",
      "                             join(Address.user).\\\n",
      "                             filter(User.name=='jack').\\\n",
      "                             options(contains_eager(Address.user)).\\\n",
      "                             all()"
     ],
     "language": "python",
     "metadata": {},
     "outputs": [
      {
       "output_type": "stream",
       "stream": "stdout",
       "text": [
        "2014-03-29 21:40:29,552 INFO sqlalchemy.engine.base.Engine SELECT users.id AS users_id, users.name AS users_name, users.fullname AS users_fullname, users.password AS users_password, addresses.id AS addresses_id, addresses.email_address AS addresses_email_address, addresses.user_id AS addresses_user_id \n",
        "FROM addresses JOIN users ON users.id = addresses.user_id \n",
        "WHERE users.name = ?\n"
       ]
      },
      {
       "output_type": "stream",
       "stream": "stdout",
       "text": [
        "2014-03-29 21:40:29,553 INFO sqlalchemy.engine.base.Engine ('jack',)\n"
       ]
      }
     ],
     "prompt_number": 87
    },
    {
     "cell_type": "code",
     "collapsed": false,
     "input": [
      "jacks_addresses"
     ],
     "language": "python",
     "metadata": {},
     "outputs": [
      {
       "metadata": {},
       "output_type": "pyout",
       "prompt_number": 88,
       "text": [
        "[<Address(email_address='jack@google.com')>,\n",
        " <Address(email_address='j25@yahoo.com')>]"
       ]
      }
     ],
     "prompt_number": 88
    },
    {
     "cell_type": "code",
     "collapsed": false,
     "input": [
      "jacks_addresses[0].user"
     ],
     "language": "python",
     "metadata": {},
     "outputs": [
      {
       "metadata": {},
       "output_type": "pyout",
       "prompt_number": 89,
       "text": [
        "<User(name='jack', fullname='Jack Bean', password='gjffdd')>"
       ]
      }
     ],
     "prompt_number": 89
    },
    {
     "cell_type": "heading",
     "level": 1,
     "metadata": {},
     "source": [
      "Deleting"
     ]
    },
    {
     "cell_type": "code",
     "collapsed": false,
     "input": [
      "session.delete(jack)"
     ],
     "language": "python",
     "metadata": {},
     "outputs": [],
     "prompt_number": 90
    },
    {
     "cell_type": "code",
     "collapsed": false,
     "input": [
      "session.query(User).filter_by(name=\"jack\").count()"
     ],
     "language": "python",
     "metadata": {},
     "outputs": [
      {
       "output_type": "stream",
       "stream": "stdout",
       "text": [
        "2014-03-29 21:40:29,577 INFO sqlalchemy.engine.base.Engine UPDATE addresses SET user_id=? WHERE addresses.id = ?\n"
       ]
      },
      {
       "output_type": "stream",
       "stream": "stdout",
       "text": [
        "2014-03-29 21:40:29,578 INFO sqlalchemy.engine.base.Engine (None, 1)\n"
       ]
      },
      {
       "output_type": "stream",
       "stream": "stdout",
       "text": [
        "2014-03-29 21:40:29,579 INFO sqlalchemy.engine.base.Engine UPDATE addresses SET user_id=? WHERE addresses.id = ?\n"
       ]
      },
      {
       "output_type": "stream",
       "stream": "stdout",
       "text": [
        "2014-03-29 21:40:29,580 INFO sqlalchemy.engine.base.Engine (None, 2)\n"
       ]
      },
      {
       "output_type": "stream",
       "stream": "stdout",
       "text": [
        "2014-03-29 21:40:29,581 INFO sqlalchemy.engine.base.Engine DELETE FROM users WHERE users.id = ?\n"
       ]
      },
      {
       "output_type": "stream",
       "stream": "stdout",
       "text": [
        "2014-03-29 21:40:29,582 INFO sqlalchemy.engine.base.Engine (5,)\n"
       ]
      },
      {
       "output_type": "stream",
       "stream": "stdout",
       "text": [
        "2014-03-29 21:40:29,583 INFO sqlalchemy.engine.base.Engine SELECT count(*) AS count_1 \n",
        "FROM (SELECT users.id AS users_id, users.name AS users_name, users.fullname AS users_fullname, users.password AS users_password \n",
        "FROM users \n",
        "WHERE users.name = ?) AS anon_1\n"
       ]
      },
      {
       "output_type": "stream",
       "stream": "stdout",
       "text": [
        "2014-03-29 21:40:29,584 INFO sqlalchemy.engine.base.Engine ('jack',)\n"
       ]
      },
      {
       "metadata": {},
       "output_type": "pyout",
       "prompt_number": 91,
       "text": [
        "0"
       ]
      }
     ],
     "prompt_number": 91
    },
    {
     "cell_type": "code",
     "collapsed": false,
     "input": [
      "session.query(Address).filter(Address.email_address.in_([\"jack@google.com\", \"j25@yahoo.com\"])).count()"
     ],
     "language": "python",
     "metadata": {},
     "outputs": [
      {
       "output_type": "stream",
       "stream": "stdout",
       "text": [
        "2014-03-29 21:40:29,593 INFO sqlalchemy.engine.base.Engine SELECT count(*) AS count_1 \n",
        "FROM (SELECT addresses.id AS addresses_id, addresses.email_address AS addresses_email_address, addresses.user_id AS addresses_user_id \n",
        "FROM addresses \n",
        "WHERE addresses.email_address IN (?, ?)) AS anon_1\n"
       ]
      },
      {
       "output_type": "stream",
       "stream": "stdout",
       "text": [
        "2014-03-29 21:40:29,594 INFO sqlalchemy.engine.base.Engine ('jack@google.com', 'j25@yahoo.com')\n"
       ]
      },
      {
       "metadata": {},
       "output_type": "pyout",
       "prompt_number": 92,
       "text": [
        "2"
       ]
      }
     ],
     "prompt_number": 92
    },
    {
     "cell_type": "raw",
     "metadata": {},
     "source": [
      "Uh oh, the orphaned addresses are left there."
     ]
    },
    {
     "cell_type": "heading",
     "level": 2,
     "metadata": {},
     "source": [
      "Deleting cascade"
     ]
    },
    {
     "cell_type": "code",
     "collapsed": false,
     "input": [
      "session.close()"
     ],
     "language": "python",
     "metadata": {},
     "outputs": [],
     "prompt_number": 93
    },
    {
     "cell_type": "code",
     "collapsed": false,
     "input": [
      "Base = declarative_base()"
     ],
     "language": "python",
     "metadata": {},
     "outputs": [],
     "prompt_number": 94
    },
    {
     "cell_type": "code",
     "collapsed": false,
     "input": [
      "class User(Base):\n",
      "     __tablename__ = 'users'\n",
      "\n",
      "     id = Column(Integer, primary_key=True)\n",
      "     name = Column(String)\n",
      "     fullname = Column(String)\n",
      "     password = Column(String)\n",
      "\n",
      "     addresses = relationship(\"Address\", backref='user',\n",
      "                     cascade=\"all, delete, delete-orphan\") # declared the deleting cascade here\n",
      "\n",
      "     def __repr__(self):\n",
      "        return \"<User(name='%s', fullname='%s', password'%s')>\" % (self.name, self.fullname, self.password)"
     ],
     "language": "python",
     "metadata": {},
     "outputs": [],
     "prompt_number": 95
    },
    {
     "cell_type": "code",
     "collapsed": false,
     "input": [
      "class Address(Base):\n",
      "     __tablename__ = 'addresses'\n",
      "     id = Column(Integer, primary_key=True)\n",
      "     email_address = Column(String, nullable=False)\n",
      "     user_id = Column(Integer, ForeignKey('users.id'))\n",
      "\n",
      "     def __repr__(self):\n",
      "         return \"<Address(email_address='%s')>\" % self.email_address\n"
     ],
     "language": "python",
     "metadata": {},
     "outputs": [],
     "prompt_number": 96
    },
    {
     "cell_type": "code",
     "collapsed": false,
     "input": [
      "jack"
     ],
     "language": "python",
     "metadata": {},
     "outputs": [
      {
       "metadata": {},
       "output_type": "pyout",
       "prompt_number": 97,
       "text": [
        "<User(name='jack', fullname='Jack Bean', password='gjffdd')>"
       ]
      }
     ],
     "prompt_number": 97
    },
    {
     "cell_type": "code",
     "collapsed": false,
     "input": [
      "jack.addresses"
     ],
     "language": "python",
     "metadata": {},
     "outputs": [
      {
       "metadata": {},
       "output_type": "pyout",
       "prompt_number": 98,
       "text": [
        "[<Address(email_address='jack@google.com')>,\n",
        " <Address(email_address='j25@yahoo.com')>]"
       ]
      }
     ],
     "prompt_number": 98
    },
    {
     "cell_type": "code",
     "collapsed": false,
     "input": [
      "jack = session.query(User).get(5)"
     ],
     "language": "python",
     "metadata": {},
     "outputs": [
      {
       "output_type": "stream",
       "stream": "stdout",
       "text": [
        "2014-03-29 21:40:29,644 INFO sqlalchemy.engine.base.Engine BEGIN (implicit)\n"
       ]
      },
      {
       "output_type": "stream",
       "stream": "stdout",
       "text": [
        "2014-03-29 21:40:29,645 INFO sqlalchemy.engine.base.Engine SELECT users.id AS users_id, users.name AS users_name, users.fullname AS users_fullname, users.password AS users_password \n",
        "FROM users \n",
        "WHERE users.id = ?\n"
       ]
      },
      {
       "output_type": "stream",
       "stream": "stdout",
       "text": [
        "2014-03-29 21:40:29,646 INFO sqlalchemy.engine.base.Engine (5,)\n"
       ]
      }
     ],
     "prompt_number": 99
    },
    {
     "cell_type": "code",
     "collapsed": false,
     "input": [
      "jack.addresses"
     ],
     "language": "python",
     "metadata": {},
     "outputs": [
      {
       "output_type": "stream",
       "stream": "stdout",
       "text": [
        "2014-03-29 21:40:29,652 INFO sqlalchemy.engine.base.Engine SELECT addresses.id AS addresses_id, addresses.email_address AS addresses_email_address, addresses.user_id AS addresses_user_id \n",
        "FROM addresses \n",
        "WHERE ? = addresses.user_id\n"
       ]
      },
      {
       "output_type": "stream",
       "stream": "stdout",
       "text": [
        "2014-03-29 21:40:29,652 INFO sqlalchemy.engine.base.Engine (5,)\n"
       ]
      },
      {
       "metadata": {},
       "output_type": "pyout",
       "prompt_number": 100,
       "text": [
        "[<Address(email_address='jack@google.com')>,\n",
        " <Address(email_address='j25@yahoo.com')>]"
       ]
      }
     ],
     "prompt_number": 100
    },
    {
     "cell_type": "code",
     "collapsed": false,
     "input": [
      "del jack.addresses[1]"
     ],
     "language": "python",
     "metadata": {},
     "outputs": [],
     "prompt_number": 101
    },
    {
     "cell_type": "code",
     "collapsed": false,
     "input": [
      "session.query(Address).filter(Address.email_address.in_(['jack@google.com', 'j25@yahoo.com'])).count()"
     ],
     "language": "python",
     "metadata": {},
     "outputs": [
      {
       "output_type": "stream",
       "stream": "stdout",
       "text": [
        "2014-03-29 21:40:29,665 INFO sqlalchemy.engine.base.Engine DELETE FROM addresses WHERE addresses.id = ?\n"
       ]
      },
      {
       "output_type": "stream",
       "stream": "stdout",
       "text": [
        "2014-03-29 21:40:29,666 INFO sqlalchemy.engine.base.Engine (2,)\n"
       ]
      },
      {
       "output_type": "stream",
       "stream": "stdout",
       "text": [
        "2014-03-29 21:40:29,667 INFO sqlalchemy.engine.base.Engine SELECT count(*) AS count_1 \n",
        "FROM (SELECT addresses.id AS addresses_id, addresses.email_address AS addresses_email_address, addresses.user_id AS addresses_user_id \n",
        "FROM addresses \n",
        "WHERE addresses.email_address IN (?, ?)) AS anon_1\n"
       ]
      },
      {
       "output_type": "stream",
       "stream": "stdout",
       "text": [
        "2014-03-29 21:40:29,668 INFO sqlalchemy.engine.base.Engine ('jack@google.com', 'j25@yahoo.com')\n"
       ]
      },
      {
       "metadata": {},
       "output_type": "pyout",
       "prompt_number": 102,
       "text": [
        "1"
       ]
      }
     ],
     "prompt_number": 102
    },
    {
     "cell_type": "code",
     "collapsed": false,
     "input": [
      "session.delete(jack)"
     ],
     "language": "python",
     "metadata": {},
     "outputs": [],
     "prompt_number": 103
    },
    {
     "cell_type": "code",
     "collapsed": false,
     "input": [
      "session.query(User).filter_by(name=\"jack\").count()"
     ],
     "language": "python",
     "metadata": {},
     "outputs": [
      {
       "output_type": "stream",
       "stream": "stdout",
       "text": [
        "2014-03-29 21:40:29,680 INFO sqlalchemy.engine.base.Engine DELETE FROM addresses WHERE addresses.id = ?\n"
       ]
      },
      {
       "output_type": "stream",
       "stream": "stdout",
       "text": [
        "2014-03-29 21:40:29,681 INFO sqlalchemy.engine.base.Engine (1,)\n"
       ]
      },
      {
       "output_type": "stream",
       "stream": "stdout",
       "text": [
        "2014-03-29 21:40:29,682 INFO sqlalchemy.engine.base.Engine DELETE FROM users WHERE users.id = ?\n"
       ]
      },
      {
       "output_type": "stream",
       "stream": "stdout",
       "text": [
        "2014-03-29 21:40:29,682 INFO sqlalchemy.engine.base.Engine (5,)\n"
       ]
      },
      {
       "output_type": "stream",
       "stream": "stdout",
       "text": [
        "2014-03-29 21:40:29,684 INFO sqlalchemy.engine.base.Engine SELECT count(*) AS count_1 \n",
        "FROM (SELECT users.id AS users_id, users.name AS users_name, users.fullname AS users_fullname, users.password AS users_password \n",
        "FROM users \n",
        "WHERE users.name = ?) AS anon_1\n"
       ]
      },
      {
       "output_type": "stream",
       "stream": "stdout",
       "text": [
        "2014-03-29 21:40:29,684 INFO sqlalchemy.engine.base.Engine ('jack',)\n"
       ]
      },
      {
       "metadata": {},
       "output_type": "pyout",
       "prompt_number": 104,
       "text": [
        "0"
       ]
      }
     ],
     "prompt_number": 104
    },
    {
     "cell_type": "code",
     "collapsed": false,
     "input": [
      "session.query(Address).filter(Address.email_address.in_(['jack@google.com', 'j25@yahoo.com'])).count()"
     ],
     "language": "python",
     "metadata": {},
     "outputs": [
      {
       "output_type": "stream",
       "stream": "stdout",
       "text": [
        "2014-03-29 21:40:29,692 INFO sqlalchemy.engine.base.Engine SELECT count(*) AS count_1 \n",
        "FROM (SELECT addresses.id AS addresses_id, addresses.email_address AS addresses_email_address, addresses.user_id AS addresses_user_id \n",
        "FROM addresses \n",
        "WHERE addresses.email_address IN (?, ?)) AS anon_1\n"
       ]
      },
      {
       "output_type": "stream",
       "stream": "stdout",
       "text": [
        "2014-03-29 21:40:29,693 INFO sqlalchemy.engine.base.Engine ('jack@google.com', 'j25@yahoo.com')\n"
       ]
      },
      {
       "metadata": {},
       "output_type": "pyout",
       "prompt_number": 105,
       "text": [
        "0"
       ]
      }
     ],
     "prompt_number": 105
    },
    {
     "cell_type": "heading",
     "level": 1,
     "metadata": {},
     "source": [
      "BONUS ROUND: MANY-TO-MANY RELATIONSHIPS"
     ]
    },
    {
     "cell_type": "code",
     "collapsed": false,
     "input": [
      "from sqlalchemy import Table, Text\n",
      "# association table\n",
      "# declaring a table is a bit different than a mapped class. Table is a constructor.\n",
      "# association table onlyc ontians columns which reference the two sides. if it contains other columns (e.g. primary key),\n",
      "# it becomes an association object\n",
      "\n",
      "post_keywords = Table('post_keywords', Base.metadata,\n",
      "     Column('post_id', Integer, ForeignKey('posts.id')),\n",
      "     Column('keyword_id', Integer, ForeignKey('keywords.id'))\n",
      ")"
     ],
     "language": "python",
     "metadata": {},
     "outputs": [],
     "prompt_number": 106
    },
    {
     "cell_type": "code",
     "collapsed": false,
     "input": [
      "class BlogPost(Base):\n",
      "    __tablename__ = 'posts'\n",
      "    id = Column(Integer, primary_key=True)\n",
      "    user_id = Column(Integer, ForeignKey('users.id'))\n",
      "    headline = Column(String(255), nullable=False)\n",
      "    body = Column(Text)\n",
      "\n",
      "    # many to many BlogPost<->Keyword\n",
      "    keywords = relationship('Keyword', secondary=post_keywords, backref='posts') # secondary is the defining feature of many-to-many\n",
      "\n",
      "    def __init__(self, headline, body, author):\n",
      "        self.author = author\n",
      "        self.headline = headline\n",
      "        self.body = body\n",
      "        \n",
      "    def __repr__(self):\n",
      "        return \"BlogPost(%r, %r, %r)\" % (self.headline, self.body, self.author)"
     ],
     "language": "python",
     "metadata": {},
     "outputs": [],
     "prompt_number": 107
    },
    {
     "cell_type": "code",
     "collapsed": false,
     "input": [
      "class Keyword(Base):\n",
      "    __tablename__ = 'keywords'\n",
      "\n",
      "    id = Column(Integer, primary_key=True)\n",
      "    keyword = Column(String(50), nullable=False, unique=True)\n",
      "    \n",
      "    def __init__(self, keyword):\n",
      "        self.keyword = keyword"
     ],
     "language": "python",
     "metadata": {},
     "outputs": [],
     "prompt_number": 108
    },
    {
     "cell_type": "code",
     "collapsed": false,
     "input": [
      "from sqlalchemy.orm import backref\n",
      "# \"dynamic\" loading relationship to User\n",
      "BlogPost.author = relationship(User, backref = backref(\"posts\", lazy = \"dynamic\"))"
     ],
     "language": "python",
     "metadata": {},
     "outputs": [],
     "prompt_number": 109
    },
    {
     "cell_type": "code",
     "collapsed": false,
     "input": [
      "Base.metadata.create_all(engine)"
     ],
     "language": "python",
     "metadata": {},
     "outputs": [
      {
       "output_type": "stream",
       "stream": "stdout",
       "text": [
        "2014-03-29 21:40:44,895 INFO sqlalchemy.engine.base.Engine PRAGMA table_info(\"keywords\")\n"
       ]
      },
      {
       "output_type": "stream",
       "stream": "stdout",
       "text": [
        "2014-03-29 21:40:44,896 INFO sqlalchemy.engine.base.Engine ()\n"
       ]
      },
      {
       "output_type": "stream",
       "stream": "stdout",
       "text": [
        "2014-03-29 21:40:44,896 INFO sqlalchemy.engine.base.Engine PRAGMA table_info(\"users\")\n"
       ]
      },
      {
       "output_type": "stream",
       "stream": "stdout",
       "text": [
        "2014-03-29 21:40:44,897 INFO sqlalchemy.engine.base.Engine ()\n"
       ]
      },
      {
       "output_type": "stream",
       "stream": "stdout",
       "text": [
        "2014-03-29 21:40:44,898 INFO sqlalchemy.engine.base.Engine PRAGMA table_info(\"posts\")\n"
       ]
      },
      {
       "output_type": "stream",
       "stream": "stdout",
       "text": [
        "2014-03-29 21:40:44,898 INFO sqlalchemy.engine.base.Engine ()\n"
       ]
      },
      {
       "output_type": "stream",
       "stream": "stdout",
       "text": [
        "2014-03-29 21:40:44,899 INFO sqlalchemy.engine.base.Engine PRAGMA table_info(\"addresses\")\n"
       ]
      },
      {
       "output_type": "stream",
       "stream": "stdout",
       "text": [
        "2014-03-29 21:40:44,899 INFO sqlalchemy.engine.base.Engine ()\n"
       ]
      },
      {
       "output_type": "stream",
       "stream": "stdout",
       "text": [
        "2014-03-29 21:40:44,900 INFO sqlalchemy.engine.base.Engine PRAGMA table_info(\"post_keywords\")\n"
       ]
      },
      {
       "output_type": "stream",
       "stream": "stdout",
       "text": [
        "2014-03-29 21:40:44,900 INFO sqlalchemy.engine.base.Engine ()\n"
       ]
      },
      {
       "output_type": "stream",
       "stream": "stdout",
       "text": [
        "2014-03-29 21:40:44,901 INFO sqlalchemy.engine.base.Engine \n",
        "CREATE TABLE keywords (\n",
        "\tid INTEGER NOT NULL, \n",
        "\tkeyword VARCHAR(50) NOT NULL, \n",
        "\tPRIMARY KEY (id), \n",
        "\tUNIQUE (keyword)\n",
        ")\n",
        "\n",
        "\n"
       ]
      },
      {
       "output_type": "stream",
       "stream": "stdout",
       "text": [
        "2014-03-29 21:40:44,902 INFO sqlalchemy.engine.base.Engine ()\n"
       ]
      },
      {
       "output_type": "stream",
       "stream": "stdout",
       "text": [
        "2014-03-29 21:40:44,903 INFO sqlalchemy.engine.base.Engine COMMIT\n"
       ]
      },
      {
       "output_type": "stream",
       "stream": "stdout",
       "text": [
        "2014-03-29 21:40:44,904 INFO sqlalchemy.engine.base.Engine \n",
        "CREATE TABLE posts (\n",
        "\tid INTEGER NOT NULL, \n",
        "\tuser_id INTEGER, \n",
        "\theadline VARCHAR(255) NOT NULL, \n",
        "\tbody TEXT, \n",
        "\tPRIMARY KEY (id), \n",
        "\tFOREIGN KEY(user_id) REFERENCES users (id)\n",
        ")\n",
        "\n",
        "\n"
       ]
      },
      {
       "output_type": "stream",
       "stream": "stdout",
       "text": [
        "2014-03-29 21:40:44,904 INFO sqlalchemy.engine.base.Engine ()\n"
       ]
      },
      {
       "output_type": "stream",
       "stream": "stdout",
       "text": [
        "2014-03-29 21:40:44,905 INFO sqlalchemy.engine.base.Engine COMMIT\n"
       ]
      },
      {
       "output_type": "stream",
       "stream": "stdout",
       "text": [
        "2014-03-29 21:40:44,906 INFO sqlalchemy.engine.base.Engine \n",
        "CREATE TABLE post_keywords (\n",
        "\tpost_id INTEGER, \n",
        "\tkeyword_id INTEGER, \n",
        "\tFOREIGN KEY(post_id) REFERENCES posts (id), \n",
        "\tFOREIGN KEY(keyword_id) REFERENCES keywords (id)\n",
        ")\n",
        "\n",
        "\n"
       ]
      },
      {
       "output_type": "stream",
       "stream": "stdout",
       "text": [
        "2014-03-29 21:40:44,906 INFO sqlalchemy.engine.base.Engine ()\n"
       ]
      },
      {
       "output_type": "stream",
       "stream": "stdout",
       "text": [
        "2014-03-29 21:40:44,907 INFO sqlalchemy.engine.base.Engine COMMIT\n"
       ]
      }
     ],
     "prompt_number": 110
    },
    {
     "cell_type": "code",
     "collapsed": false,
     "input": [
      "wendy = session.query(User).filter_by(name=\"wendy\").one()"
     ],
     "language": "python",
     "metadata": {},
     "outputs": [
      {
       "output_type": "stream",
       "stream": "stdout",
       "text": [
        "2014-03-29 21:40:49,122 INFO sqlalchemy.engine.base.Engine SELECT users.id AS users_id, users.name AS users_name, users.fullname AS users_fullname, users.password AS users_password \n",
        "FROM users \n",
        "WHERE users.name = ?\n"
       ]
      },
      {
       "output_type": "stream",
       "stream": "stdout",
       "text": [
        "2014-03-29 21:40:49,122 INFO sqlalchemy.engine.base.Engine ('wendy',)\n"
       ]
      }
     ],
     "prompt_number": 111
    },
    {
     "cell_type": "code",
     "collapsed": false,
     "input": [
      "post = BlogPost(\"Wendy's Blog Post\", \"This is a test\", wendy)"
     ],
     "language": "python",
     "metadata": {},
     "outputs": [],
     "prompt_number": 112
    },
    {
     "cell_type": "code",
     "collapsed": false,
     "input": [
      "session.add(post)"
     ],
     "language": "python",
     "metadata": {},
     "outputs": [],
     "prompt_number": 113
    },
    {
     "cell_type": "code",
     "collapsed": false,
     "input": [
      "post.keywords.append(Keyword(\"wendy\"))"
     ],
     "language": "python",
     "metadata": {},
     "outputs": [],
     "prompt_number": 114
    },
    {
     "cell_type": "code",
     "collapsed": false,
     "input": [
      "post.keywords.append(Keyword(\"firstpost\"))"
     ],
     "language": "python",
     "metadata": {},
     "outputs": [],
     "prompt_number": 115
    },
    {
     "cell_type": "code",
     "collapsed": false,
     "input": [
      "session.query(BlogPost).\\\n",
      "                filter(BlogPost.author==wendy).\\\n",
      "                filter(BlogPost.keywords.any(keyword=\"firstpost\")).\\\n",
      "                all()"
     ],
     "language": "python",
     "metadata": {},
     "outputs": [
      {
       "output_type": "stream",
       "stream": "stdout",
       "text": [
        "2014-03-29 21:42:45,214 INFO sqlalchemy.engine.base.Engine INSERT INTO keywords (keyword) VALUES (?)\n"
       ]
      },
      {
       "output_type": "stream",
       "stream": "stdout",
       "text": [
        "2014-03-29 21:42:45,215 INFO sqlalchemy.engine.base.Engine ('wendy',)\n"
       ]
      },
      {
       "output_type": "stream",
       "stream": "stdout",
       "text": [
        "2014-03-29 21:42:45,215 INFO sqlalchemy.engine.base.Engine INSERT INTO keywords (keyword) VALUES (?)\n"
       ]
      },
      {
       "output_type": "stream",
       "stream": "stdout",
       "text": [
        "2014-03-29 21:42:45,216 INFO sqlalchemy.engine.base.Engine ('firstpost',)\n"
       ]
      },
      {
       "output_type": "stream",
       "stream": "stdout",
       "text": [
        "2014-03-29 21:42:45,220 INFO sqlalchemy.engine.base.Engine INSERT INTO posts (user_id, headline, body) VALUES (?, ?, ?)\n"
       ]
      },
      {
       "output_type": "stream",
       "stream": "stdout",
       "text": [
        "2014-03-29 21:42:45,220 INFO sqlalchemy.engine.base.Engine (2, \"Wendy's Blog Post\", 'This is a test')\n"
       ]
      },
      {
       "output_type": "stream",
       "stream": "stdout",
       "text": [
        "2014-03-29 21:42:45,222 INFO sqlalchemy.engine.base.Engine INSERT INTO post_keywords (post_id, keyword_id) VALUES (?, ?)\n"
       ]
      },
      {
       "output_type": "stream",
       "stream": "stdout",
       "text": [
        "2014-03-29 21:42:45,222 INFO sqlalchemy.engine.base.Engine ((1, 2), (1, 1))\n"
       ]
      },
      {
       "output_type": "stream",
       "stream": "stdout",
       "text": [
        "2014-03-29 21:42:45,224 INFO sqlalchemy.engine.base.Engine SELECT posts.id AS posts_id, posts.user_id AS posts_user_id, posts.headline AS posts_headline, posts.body AS posts_body \n",
        "FROM posts \n",
        "WHERE ? = posts.user_id AND (EXISTS (SELECT 1 \n",
        "FROM post_keywords, keywords \n",
        "WHERE posts.id = post_keywords.post_id AND keywords.id = post_keywords.keyword_id AND keywords.keyword = ?))\n"
       ]
      },
      {
       "output_type": "stream",
       "stream": "stdout",
       "text": [
        "2014-03-29 21:42:45,224 INFO sqlalchemy.engine.base.Engine (2, 'firstpost')\n"
       ]
      },
      {
       "metadata": {},
       "output_type": "pyout",
       "prompt_number": 116,
       "text": [
        "[BlogPost(\"Wendy's Blog Post\", 'This is a test', <User(name='wendy', fullname='Wendy Williams', password'foobar')>)]"
       ]
      }
     ],
     "prompt_number": 116
    },
    {
     "cell_type": "code",
     "collapsed": false,
     "input": [
      "wendy.posts.filter(BlogPost.keywords.any(keyword=\"firstpost\")).all()"
     ],
     "language": "python",
     "metadata": {},
     "outputs": [
      {
       "output_type": "stream",
       "stream": "stdout",
       "text": [
        "2014-03-29 21:43:19,143 INFO sqlalchemy.engine.base.Engine SELECT posts.id AS posts_id, posts.user_id AS posts_user_id, posts.headline AS posts_headline, posts.body AS posts_body \n",
        "FROM posts \n",
        "WHERE ? = posts.user_id AND (EXISTS (SELECT 1 \n",
        "FROM post_keywords, keywords \n",
        "WHERE posts.id = post_keywords.post_id AND keywords.id = post_keywords.keyword_id AND keywords.keyword = ?))\n"
       ]
      },
      {
       "output_type": "stream",
       "stream": "stdout",
       "text": [
        "2014-03-29 21:43:19,144 INFO sqlalchemy.engine.base.Engine (2, 'firstpost')\n"
       ]
      },
      {
       "metadata": {},
       "output_type": "pyout",
       "prompt_number": 117,
       "text": [
        "[BlogPost(\"Wendy's Blog Post\", 'This is a test', <User(name='wendy', fullname='Wendy Williams', password'foobar')>)]"
       ]
      }
     ],
     "prompt_number": 117
    },
    {
     "cell_type": "code",
     "collapsed": false,
     "input": [],
     "language": "python",
     "metadata": {},
     "outputs": []
    }
   ],
   "metadata": {}
  }
 ]
}